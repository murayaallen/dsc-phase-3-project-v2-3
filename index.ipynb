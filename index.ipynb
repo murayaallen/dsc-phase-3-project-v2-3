{
 "cells": [
  {
   "cell_type": "markdown",
   "id": "a4ce153d",
   "metadata": {},
   "source": [
    "## Final Project Submission\n",
    "\n",
    "Please fill out:\n",
    "* Student name: Allen Muraya Maina\n",
    "* Student pace: full time\n",
    "* Scheduled project review date/time: 1st November 2023\n",
    "* Instructor name: Nikita Njoroge, Lucille Kaleha, Diana Mongina.\n",
    "* Blog post URL:\n"
   ]
  },
  {
   "cell_type": "markdown",
   "id": "574ae3ca",
   "metadata": {},
   "source": [
    "# Tanzanian Water Wells"
   ]
  },
  {
   "cell_type": "markdown",
   "id": "213efd47",
   "metadata": {},
   "source": [
    "# Introduction"
   ]
  },
  {
   "cell_type": "markdown",
   "id": "1332134f",
   "metadata": {},
   "source": [
    "## The features in this dataset\n",
    "Your goal is to predict the operating condition of a waterpoint for each record in the dataset. You are provided the following set of information about the waterpoints:\n",
    "\n",
    "* amount_tsh - Total static head (amount water available to waterpoint)\n",
    "* date_recorded - The date the row was entered\n",
    "* funder - Who funded the well\n",
    "* gps_height - Altitude of the well\n",
    "* installer - Organization that installed the well\n",
    "* longitude - GPS coordinate\n",
    "* latitude - GPS coordinate\n",
    "* wpt_name - Name of the waterpoint if there is one\n",
    "* basin - Geographic water basin\n",
    "* subvillage - Geographic location\n",
    "* region - Geographic location\n",
    "* region_code - Geographic location (coded)\n",
    "* district_code - Geographic location (coded)\n",
    "* lga - Geographic location\n",
    "* ward - Geographic location\n",
    "* population - Population around the well\n",
    "* public_meeting - True/False\n",
    "* recorded_by - Group entering this row of data\n",
    "* scheme_management - Who operates the waterpoint\n",
    "* scheme_name - Who operates the waterpoint\n",
    "* permit - If the waterpoint is permitted\n",
    "* construction_year - Year the waterpoint was constructed\n",
    "* extraction_type - The kind of extraction the waterpoint uses\n",
    "* extraction_type_group - The kind of extraction the waterpoint uses\n",
    "* extraction_type_class - The kind of extraction the waterpoint uses\n",
    "* management - How the waterpoint is managed\n",
    "* management_group - How the waterpoint is managed\n",
    "* payment - What the water costs\n",
    "* payment_type - What the water costs\n",
    "* water_quality - The quality of the water\n",
    "* quality_group - The quality of the water\n",
    "* quantity - The quantity of water\n",
    "* quantity_group - The quantity of water\n",
    "* source - The source of the water\n",
    "* source_type - The source of the water\n",
    "* source_class - The source of the water\n",
    "* waterpoint_type - The kind of waterpoint\n",
    "* waterpoint_type_group - The kind of waterpoint"
   ]
  },
  {
   "cell_type": "markdown",
   "id": "30f76fbd",
   "metadata": {},
   "source": [
    "# Data understanding & Preparation"
   ]
  },
  {
   "cell_type": "markdown",
   "id": "6d0a86d9",
   "metadata": {},
   "source": [
    "I've obtained this data from the Tanzanian Ministry of Water and put together by Taarifa. My goal is to ensure the accuracy of our model based on the current dataset through techniques of data analysis. This will help the Tanzanian government by enabling them to predict the functional status of water pumps using newly collected data and make repairs to the non-functional units."
   ]
  },
  {
   "cell_type": "markdown",
   "id": "794b6dc3",
   "metadata": {},
   "source": [
    "## Import Libraries"
   ]
  },
  {
   "cell_type": "code",
   "execution_count": 1,
   "id": "9838636a",
   "metadata": {},
   "outputs": [],
   "source": [
    "#Importing Libraries\n",
    "import pandas as pd\n",
    "import numpy as np\n",
    "import matplotlib.pyplot as plt\n",
    "%matplotlib inline\n",
    "import seaborn as sns"
   ]
  },
  {
   "cell_type": "code",
   "execution_count": 2,
   "id": "7a33ca0a",
   "metadata": {},
   "outputs": [],
   "source": [
    "#Load datasets\n",
    "df_training_values = pd.read_csv('Training_set_values.csv')\n",
    "df_training_labels = pd.read_csv('Training_set_labels.csv')"
   ]
  },
  {
   "cell_type": "code",
   "execution_count": 3,
   "id": "0a139c88",
   "metadata": {},
   "outputs": [
    {
     "data": {
      "text/html": [
       "<div>\n",
       "<style scoped>\n",
       "    .dataframe tbody tr th:only-of-type {\n",
       "        vertical-align: middle;\n",
       "    }\n",
       "\n",
       "    .dataframe tbody tr th {\n",
       "        vertical-align: top;\n",
       "    }\n",
       "\n",
       "    .dataframe thead th {\n",
       "        text-align: right;\n",
       "    }\n",
       "</style>\n",
       "<table border=\"1\" class=\"dataframe\">\n",
       "  <thead>\n",
       "    <tr style=\"text-align: right;\">\n",
       "      <th></th>\n",
       "      <th>id</th>\n",
       "      <th>amount_tsh</th>\n",
       "      <th>date_recorded</th>\n",
       "      <th>funder</th>\n",
       "      <th>gps_height</th>\n",
       "      <th>installer</th>\n",
       "      <th>longitude</th>\n",
       "      <th>latitude</th>\n",
       "      <th>wpt_name</th>\n",
       "      <th>num_private</th>\n",
       "      <th>...</th>\n",
       "      <th>payment_type</th>\n",
       "      <th>water_quality</th>\n",
       "      <th>quality_group</th>\n",
       "      <th>quantity</th>\n",
       "      <th>quantity_group</th>\n",
       "      <th>source</th>\n",
       "      <th>source_type</th>\n",
       "      <th>source_class</th>\n",
       "      <th>waterpoint_type</th>\n",
       "      <th>waterpoint_type_group</th>\n",
       "    </tr>\n",
       "  </thead>\n",
       "  <tbody>\n",
       "    <tr>\n",
       "      <th>0</th>\n",
       "      <td>69572</td>\n",
       "      <td>6000.0</td>\n",
       "      <td>2011-03-14</td>\n",
       "      <td>Roman</td>\n",
       "      <td>1390</td>\n",
       "      <td>Roman</td>\n",
       "      <td>34.938093</td>\n",
       "      <td>-9.856322</td>\n",
       "      <td>none</td>\n",
       "      <td>0</td>\n",
       "      <td>...</td>\n",
       "      <td>annually</td>\n",
       "      <td>soft</td>\n",
       "      <td>good</td>\n",
       "      <td>enough</td>\n",
       "      <td>enough</td>\n",
       "      <td>spring</td>\n",
       "      <td>spring</td>\n",
       "      <td>groundwater</td>\n",
       "      <td>communal standpipe</td>\n",
       "      <td>communal standpipe</td>\n",
       "    </tr>\n",
       "    <tr>\n",
       "      <th>1</th>\n",
       "      <td>8776</td>\n",
       "      <td>0.0</td>\n",
       "      <td>2013-03-06</td>\n",
       "      <td>Grumeti</td>\n",
       "      <td>1399</td>\n",
       "      <td>GRUMETI</td>\n",
       "      <td>34.698766</td>\n",
       "      <td>-2.147466</td>\n",
       "      <td>Zahanati</td>\n",
       "      <td>0</td>\n",
       "      <td>...</td>\n",
       "      <td>never pay</td>\n",
       "      <td>soft</td>\n",
       "      <td>good</td>\n",
       "      <td>insufficient</td>\n",
       "      <td>insufficient</td>\n",
       "      <td>rainwater harvesting</td>\n",
       "      <td>rainwater harvesting</td>\n",
       "      <td>surface</td>\n",
       "      <td>communal standpipe</td>\n",
       "      <td>communal standpipe</td>\n",
       "    </tr>\n",
       "    <tr>\n",
       "      <th>2</th>\n",
       "      <td>34310</td>\n",
       "      <td>25.0</td>\n",
       "      <td>2013-02-25</td>\n",
       "      <td>Lottery Club</td>\n",
       "      <td>686</td>\n",
       "      <td>World vision</td>\n",
       "      <td>37.460664</td>\n",
       "      <td>-3.821329</td>\n",
       "      <td>Kwa Mahundi</td>\n",
       "      <td>0</td>\n",
       "      <td>...</td>\n",
       "      <td>per bucket</td>\n",
       "      <td>soft</td>\n",
       "      <td>good</td>\n",
       "      <td>enough</td>\n",
       "      <td>enough</td>\n",
       "      <td>dam</td>\n",
       "      <td>dam</td>\n",
       "      <td>surface</td>\n",
       "      <td>communal standpipe multiple</td>\n",
       "      <td>communal standpipe</td>\n",
       "    </tr>\n",
       "    <tr>\n",
       "      <th>3</th>\n",
       "      <td>67743</td>\n",
       "      <td>0.0</td>\n",
       "      <td>2013-01-28</td>\n",
       "      <td>Unicef</td>\n",
       "      <td>263</td>\n",
       "      <td>UNICEF</td>\n",
       "      <td>38.486161</td>\n",
       "      <td>-11.155298</td>\n",
       "      <td>Zahanati Ya Nanyumbu</td>\n",
       "      <td>0</td>\n",
       "      <td>...</td>\n",
       "      <td>never pay</td>\n",
       "      <td>soft</td>\n",
       "      <td>good</td>\n",
       "      <td>dry</td>\n",
       "      <td>dry</td>\n",
       "      <td>machine dbh</td>\n",
       "      <td>borehole</td>\n",
       "      <td>groundwater</td>\n",
       "      <td>communal standpipe multiple</td>\n",
       "      <td>communal standpipe</td>\n",
       "    </tr>\n",
       "    <tr>\n",
       "      <th>4</th>\n",
       "      <td>19728</td>\n",
       "      <td>0.0</td>\n",
       "      <td>2011-07-13</td>\n",
       "      <td>Action In A</td>\n",
       "      <td>0</td>\n",
       "      <td>Artisan</td>\n",
       "      <td>31.130847</td>\n",
       "      <td>-1.825359</td>\n",
       "      <td>Shuleni</td>\n",
       "      <td>0</td>\n",
       "      <td>...</td>\n",
       "      <td>never pay</td>\n",
       "      <td>soft</td>\n",
       "      <td>good</td>\n",
       "      <td>seasonal</td>\n",
       "      <td>seasonal</td>\n",
       "      <td>rainwater harvesting</td>\n",
       "      <td>rainwater harvesting</td>\n",
       "      <td>surface</td>\n",
       "      <td>communal standpipe</td>\n",
       "      <td>communal standpipe</td>\n",
       "    </tr>\n",
       "  </tbody>\n",
       "</table>\n",
       "<p>5 rows × 40 columns</p>\n",
       "</div>"
      ],
      "text/plain": [
       "      id  amount_tsh date_recorded        funder  gps_height     installer  \\\n",
       "0  69572      6000.0    2011-03-14         Roman        1390         Roman   \n",
       "1   8776         0.0    2013-03-06       Grumeti        1399       GRUMETI   \n",
       "2  34310        25.0    2013-02-25  Lottery Club         686  World vision   \n",
       "3  67743         0.0    2013-01-28        Unicef         263        UNICEF   \n",
       "4  19728         0.0    2011-07-13   Action In A           0       Artisan   \n",
       "\n",
       "   longitude   latitude              wpt_name  num_private  ... payment_type  \\\n",
       "0  34.938093  -9.856322                  none            0  ...     annually   \n",
       "1  34.698766  -2.147466              Zahanati            0  ...    never pay   \n",
       "2  37.460664  -3.821329           Kwa Mahundi            0  ...   per bucket   \n",
       "3  38.486161 -11.155298  Zahanati Ya Nanyumbu            0  ...    never pay   \n",
       "4  31.130847  -1.825359               Shuleni            0  ...    never pay   \n",
       "\n",
       "  water_quality quality_group      quantity  quantity_group  \\\n",
       "0          soft          good        enough          enough   \n",
       "1          soft          good  insufficient    insufficient   \n",
       "2          soft          good        enough          enough   \n",
       "3          soft          good           dry             dry   \n",
       "4          soft          good      seasonal        seasonal   \n",
       "\n",
       "                 source           source_type  source_class  \\\n",
       "0                spring                spring   groundwater   \n",
       "1  rainwater harvesting  rainwater harvesting       surface   \n",
       "2                   dam                   dam       surface   \n",
       "3           machine dbh              borehole   groundwater   \n",
       "4  rainwater harvesting  rainwater harvesting       surface   \n",
       "\n",
       "               waterpoint_type waterpoint_type_group  \n",
       "0           communal standpipe    communal standpipe  \n",
       "1           communal standpipe    communal standpipe  \n",
       "2  communal standpipe multiple    communal standpipe  \n",
       "3  communal standpipe multiple    communal standpipe  \n",
       "4           communal standpipe    communal standpipe  \n",
       "\n",
       "[5 rows x 40 columns]"
      ]
     },
     "execution_count": 3,
     "metadata": {},
     "output_type": "execute_result"
    }
   ],
   "source": [
    "#Print first five rows of data\n",
    "df_training_values.head()"
   ]
  },
  {
   "cell_type": "code",
   "execution_count": 4,
   "id": "9924c414",
   "metadata": {},
   "outputs": [
    {
     "data": {
      "text/html": [
       "<div>\n",
       "<style scoped>\n",
       "    .dataframe tbody tr th:only-of-type {\n",
       "        vertical-align: middle;\n",
       "    }\n",
       "\n",
       "    .dataframe tbody tr th {\n",
       "        vertical-align: top;\n",
       "    }\n",
       "\n",
       "    .dataframe thead th {\n",
       "        text-align: right;\n",
       "    }\n",
       "</style>\n",
       "<table border=\"1\" class=\"dataframe\">\n",
       "  <thead>\n",
       "    <tr style=\"text-align: right;\">\n",
       "      <th></th>\n",
       "      <th>id</th>\n",
       "      <th>status_group</th>\n",
       "    </tr>\n",
       "  </thead>\n",
       "  <tbody>\n",
       "    <tr>\n",
       "      <th>0</th>\n",
       "      <td>69572</td>\n",
       "      <td>functional</td>\n",
       "    </tr>\n",
       "    <tr>\n",
       "      <th>1</th>\n",
       "      <td>8776</td>\n",
       "      <td>functional</td>\n",
       "    </tr>\n",
       "    <tr>\n",
       "      <th>2</th>\n",
       "      <td>34310</td>\n",
       "      <td>functional</td>\n",
       "    </tr>\n",
       "    <tr>\n",
       "      <th>3</th>\n",
       "      <td>67743</td>\n",
       "      <td>non functional</td>\n",
       "    </tr>\n",
       "    <tr>\n",
       "      <th>4</th>\n",
       "      <td>19728</td>\n",
       "      <td>functional</td>\n",
       "    </tr>\n",
       "  </tbody>\n",
       "</table>\n",
       "</div>"
      ],
      "text/plain": [
       "      id    status_group\n",
       "0  69572      functional\n",
       "1   8776      functional\n",
       "2  34310      functional\n",
       "3  67743  non functional\n",
       "4  19728      functional"
      ]
     },
     "execution_count": 4,
     "metadata": {},
     "output_type": "execute_result"
    }
   ],
   "source": [
    "df_training_labels.head()"
   ]
  },
  {
   "cell_type": "code",
   "execution_count": 5,
   "id": "04117080",
   "metadata": {},
   "outputs": [],
   "source": [
    "#Merge the datasets\n",
    "df_training_values.set_index('id', inplace = True)\n",
    "df_training_labels.set_index('id', inplace = True)\n",
    "df = pd.merge(df_training_values, df_training_labels, how = 'inner', left_index = True, right_index = True)\n",
    "df.reset_index(inplace = True)"
   ]
  },
  {
   "cell_type": "markdown",
   "id": "a23cd1f3",
   "metadata": {},
   "source": [
    "## List the columns"
   ]
  },
  {
   "cell_type": "code",
   "execution_count": 6,
   "id": "38c8335c",
   "metadata": {},
   "outputs": [
    {
     "data": {
      "text/plain": [
       "Index(['id', 'amount_tsh', 'date_recorded', 'funder', 'gps_height',\n",
       "       'installer', 'longitude', 'latitude', 'wpt_name', 'num_private',\n",
       "       'basin', 'subvillage', 'region', 'region_code', 'district_code', 'lga',\n",
       "       'ward', 'population', 'public_meeting', 'recorded_by',\n",
       "       'scheme_management', 'scheme_name', 'permit', 'construction_year',\n",
       "       'extraction_type', 'extraction_type_group', 'extraction_type_class',\n",
       "       'management', 'management_group', 'payment', 'payment_type',\n",
       "       'water_quality', 'quality_group', 'quantity', 'quantity_group',\n",
       "       'source', 'source_type', 'source_class', 'waterpoint_type',\n",
       "       'waterpoint_type_group', 'status_group'],\n",
       "      dtype='object')"
      ]
     },
     "execution_count": 6,
     "metadata": {},
     "output_type": "execute_result"
    }
   ],
   "source": [
    "df.columns"
   ]
  },
  {
   "cell_type": "markdown",
   "id": "bcbf0257",
   "metadata": {},
   "source": [
    "# Data cleaning"
   ]
  },
  {
   "cell_type": "markdown",
   "id": "64432d7b",
   "metadata": {},
   "source": [
    "Data Cleaning will be performed on columns that we will find relevant to our data analysis."
   ]
  },
  {
   "cell_type": "markdown",
   "id": "9b478b75",
   "metadata": {},
   "source": [
    "### Drop Duplicates"
   ]
  },
  {
   "cell_type": "code",
   "execution_count": 7,
   "id": "e62bf65a",
   "metadata": {},
   "outputs": [
    {
     "data": {
      "text/html": [
       "<div>\n",
       "<style scoped>\n",
       "    .dataframe tbody tr th:only-of-type {\n",
       "        vertical-align: middle;\n",
       "    }\n",
       "\n",
       "    .dataframe tbody tr th {\n",
       "        vertical-align: top;\n",
       "    }\n",
       "\n",
       "    .dataframe thead th {\n",
       "        text-align: right;\n",
       "    }\n",
       "</style>\n",
       "<table border=\"1\" class=\"dataframe\">\n",
       "  <thead>\n",
       "    <tr style=\"text-align: right;\">\n",
       "      <th></th>\n",
       "      <th>id</th>\n",
       "      <th>amount_tsh</th>\n",
       "      <th>date_recorded</th>\n",
       "      <th>funder</th>\n",
       "      <th>gps_height</th>\n",
       "      <th>installer</th>\n",
       "      <th>longitude</th>\n",
       "      <th>latitude</th>\n",
       "      <th>wpt_name</th>\n",
       "      <th>num_private</th>\n",
       "      <th>...</th>\n",
       "      <th>water_quality</th>\n",
       "      <th>quality_group</th>\n",
       "      <th>quantity</th>\n",
       "      <th>quantity_group</th>\n",
       "      <th>source</th>\n",
       "      <th>source_type</th>\n",
       "      <th>source_class</th>\n",
       "      <th>waterpoint_type</th>\n",
       "      <th>waterpoint_type_group</th>\n",
       "      <th>status_group</th>\n",
       "    </tr>\n",
       "  </thead>\n",
       "  <tbody>\n",
       "    <tr>\n",
       "      <th>0</th>\n",
       "      <td>69572</td>\n",
       "      <td>6000.0</td>\n",
       "      <td>2011-03-14</td>\n",
       "      <td>Roman</td>\n",
       "      <td>1390</td>\n",
       "      <td>Roman</td>\n",
       "      <td>34.938093</td>\n",
       "      <td>-9.856322</td>\n",
       "      <td>none</td>\n",
       "      <td>0</td>\n",
       "      <td>...</td>\n",
       "      <td>soft</td>\n",
       "      <td>good</td>\n",
       "      <td>enough</td>\n",
       "      <td>enough</td>\n",
       "      <td>spring</td>\n",
       "      <td>spring</td>\n",
       "      <td>groundwater</td>\n",
       "      <td>communal standpipe</td>\n",
       "      <td>communal standpipe</td>\n",
       "      <td>functional</td>\n",
       "    </tr>\n",
       "    <tr>\n",
       "      <th>1</th>\n",
       "      <td>8776</td>\n",
       "      <td>0.0</td>\n",
       "      <td>2013-03-06</td>\n",
       "      <td>Grumeti</td>\n",
       "      <td>1399</td>\n",
       "      <td>GRUMETI</td>\n",
       "      <td>34.698766</td>\n",
       "      <td>-2.147466</td>\n",
       "      <td>Zahanati</td>\n",
       "      <td>0</td>\n",
       "      <td>...</td>\n",
       "      <td>soft</td>\n",
       "      <td>good</td>\n",
       "      <td>insufficient</td>\n",
       "      <td>insufficient</td>\n",
       "      <td>rainwater harvesting</td>\n",
       "      <td>rainwater harvesting</td>\n",
       "      <td>surface</td>\n",
       "      <td>communal standpipe</td>\n",
       "      <td>communal standpipe</td>\n",
       "      <td>functional</td>\n",
       "    </tr>\n",
       "    <tr>\n",
       "      <th>2</th>\n",
       "      <td>34310</td>\n",
       "      <td>25.0</td>\n",
       "      <td>2013-02-25</td>\n",
       "      <td>Lottery Club</td>\n",
       "      <td>686</td>\n",
       "      <td>World vision</td>\n",
       "      <td>37.460664</td>\n",
       "      <td>-3.821329</td>\n",
       "      <td>Kwa Mahundi</td>\n",
       "      <td>0</td>\n",
       "      <td>...</td>\n",
       "      <td>soft</td>\n",
       "      <td>good</td>\n",
       "      <td>enough</td>\n",
       "      <td>enough</td>\n",
       "      <td>dam</td>\n",
       "      <td>dam</td>\n",
       "      <td>surface</td>\n",
       "      <td>communal standpipe multiple</td>\n",
       "      <td>communal standpipe</td>\n",
       "      <td>functional</td>\n",
       "    </tr>\n",
       "    <tr>\n",
       "      <th>3</th>\n",
       "      <td>67743</td>\n",
       "      <td>0.0</td>\n",
       "      <td>2013-01-28</td>\n",
       "      <td>Unicef</td>\n",
       "      <td>263</td>\n",
       "      <td>UNICEF</td>\n",
       "      <td>38.486161</td>\n",
       "      <td>-11.155298</td>\n",
       "      <td>Zahanati Ya Nanyumbu</td>\n",
       "      <td>0</td>\n",
       "      <td>...</td>\n",
       "      <td>soft</td>\n",
       "      <td>good</td>\n",
       "      <td>dry</td>\n",
       "      <td>dry</td>\n",
       "      <td>machine dbh</td>\n",
       "      <td>borehole</td>\n",
       "      <td>groundwater</td>\n",
       "      <td>communal standpipe multiple</td>\n",
       "      <td>communal standpipe</td>\n",
       "      <td>non functional</td>\n",
       "    </tr>\n",
       "    <tr>\n",
       "      <th>4</th>\n",
       "      <td>19728</td>\n",
       "      <td>0.0</td>\n",
       "      <td>2011-07-13</td>\n",
       "      <td>Action In A</td>\n",
       "      <td>0</td>\n",
       "      <td>Artisan</td>\n",
       "      <td>31.130847</td>\n",
       "      <td>-1.825359</td>\n",
       "      <td>Shuleni</td>\n",
       "      <td>0</td>\n",
       "      <td>...</td>\n",
       "      <td>soft</td>\n",
       "      <td>good</td>\n",
       "      <td>seasonal</td>\n",
       "      <td>seasonal</td>\n",
       "      <td>rainwater harvesting</td>\n",
       "      <td>rainwater harvesting</td>\n",
       "      <td>surface</td>\n",
       "      <td>communal standpipe</td>\n",
       "      <td>communal standpipe</td>\n",
       "      <td>functional</td>\n",
       "    </tr>\n",
       "  </tbody>\n",
       "</table>\n",
       "<p>5 rows × 41 columns</p>\n",
       "</div>"
      ],
      "text/plain": [
       "      id  amount_tsh date_recorded        funder  gps_height     installer  \\\n",
       "0  69572      6000.0    2011-03-14         Roman        1390         Roman   \n",
       "1   8776         0.0    2013-03-06       Grumeti        1399       GRUMETI   \n",
       "2  34310        25.0    2013-02-25  Lottery Club         686  World vision   \n",
       "3  67743         0.0    2013-01-28        Unicef         263        UNICEF   \n",
       "4  19728         0.0    2011-07-13   Action In A           0       Artisan   \n",
       "\n",
       "   longitude   latitude              wpt_name  num_private  ... water_quality  \\\n",
       "0  34.938093  -9.856322                  none            0  ...          soft   \n",
       "1  34.698766  -2.147466              Zahanati            0  ...          soft   \n",
       "2  37.460664  -3.821329           Kwa Mahundi            0  ...          soft   \n",
       "3  38.486161 -11.155298  Zahanati Ya Nanyumbu            0  ...          soft   \n",
       "4  31.130847  -1.825359               Shuleni            0  ...          soft   \n",
       "\n",
       "  quality_group      quantity  quantity_group                source  \\\n",
       "0          good        enough          enough                spring   \n",
       "1          good  insufficient    insufficient  rainwater harvesting   \n",
       "2          good        enough          enough                   dam   \n",
       "3          good           dry             dry           machine dbh   \n",
       "4          good      seasonal        seasonal  rainwater harvesting   \n",
       "\n",
       "            source_type source_class              waterpoint_type  \\\n",
       "0                spring  groundwater           communal standpipe   \n",
       "1  rainwater harvesting      surface           communal standpipe   \n",
       "2                   dam      surface  communal standpipe multiple   \n",
       "3              borehole  groundwater  communal standpipe multiple   \n",
       "4  rainwater harvesting      surface           communal standpipe   \n",
       "\n",
       "  waterpoint_type_group    status_group  \n",
       "0    communal standpipe      functional  \n",
       "1    communal standpipe      functional  \n",
       "2    communal standpipe      functional  \n",
       "3    communal standpipe  non functional  \n",
       "4    communal standpipe      functional  \n",
       "\n",
       "[5 rows x 41 columns]"
      ]
     },
     "execution_count": 7,
     "metadata": {},
     "output_type": "execute_result"
    }
   ],
   "source": [
    "#Drop Duplicate \n",
    "df.drop_duplicates(inplace = True)\n",
    "df.head()"
   ]
  },
  {
   "cell_type": "markdown",
   "id": "31db9740",
   "metadata": {},
   "source": [
    "### Inspect data types in the columns"
   ]
  },
  {
   "cell_type": "code",
   "execution_count": 8,
   "id": "887caca8",
   "metadata": {},
   "outputs": [
    {
     "name": "stdout",
     "output_type": "stream",
     "text": [
      "<class 'pandas.core.frame.DataFrame'>\n",
      "RangeIndex: 59400 entries, 0 to 59399\n",
      "Data columns (total 41 columns):\n",
      " #   Column                 Non-Null Count  Dtype  \n",
      "---  ------                 --------------  -----  \n",
      " 0   id                     59400 non-null  int64  \n",
      " 1   amount_tsh             59400 non-null  float64\n",
      " 2   date_recorded          59400 non-null  object \n",
      " 3   funder                 55763 non-null  object \n",
      " 4   gps_height             59400 non-null  int64  \n",
      " 5   installer              55745 non-null  object \n",
      " 6   longitude              59400 non-null  float64\n",
      " 7   latitude               59400 non-null  float64\n",
      " 8   wpt_name               59398 non-null  object \n",
      " 9   num_private            59400 non-null  int64  \n",
      " 10  basin                  59400 non-null  object \n",
      " 11  subvillage             59029 non-null  object \n",
      " 12  region                 59400 non-null  object \n",
      " 13  region_code            59400 non-null  int64  \n",
      " 14  district_code          59400 non-null  int64  \n",
      " 15  lga                    59400 non-null  object \n",
      " 16  ward                   59400 non-null  object \n",
      " 17  population             59400 non-null  int64  \n",
      " 18  public_meeting         56066 non-null  object \n",
      " 19  recorded_by            59400 non-null  object \n",
      " 20  scheme_management      55522 non-null  object \n",
      " 21  scheme_name            30590 non-null  object \n",
      " 22  permit                 56344 non-null  object \n",
      " 23  construction_year      59400 non-null  int64  \n",
      " 24  extraction_type        59400 non-null  object \n",
      " 25  extraction_type_group  59400 non-null  object \n",
      " 26  extraction_type_class  59400 non-null  object \n",
      " 27  management             59400 non-null  object \n",
      " 28  management_group       59400 non-null  object \n",
      " 29  payment                59400 non-null  object \n",
      " 30  payment_type           59400 non-null  object \n",
      " 31  water_quality          59400 non-null  object \n",
      " 32  quality_group          59400 non-null  object \n",
      " 33  quantity               59400 non-null  object \n",
      " 34  quantity_group         59400 non-null  object \n",
      " 35  source                 59400 non-null  object \n",
      " 36  source_type            59400 non-null  object \n",
      " 37  source_class           59400 non-null  object \n",
      " 38  waterpoint_type        59400 non-null  object \n",
      " 39  waterpoint_type_group  59400 non-null  object \n",
      " 40  status_group           59400 non-null  object \n",
      "dtypes: float64(3), int64(7), object(31)\n",
      "memory usage: 18.6+ MB\n"
     ]
    }
   ],
   "source": [
    "#Inspect data types in the columns\n",
    "df.info()"
   ]
  },
  {
   "cell_type": "code",
   "execution_count": 9,
   "id": "a341509b",
   "metadata": {},
   "outputs": [
    {
     "data": {
      "text/plain": [
       "id                           0\n",
       "amount_tsh                   0\n",
       "date_recorded                0\n",
       "funder                    3637\n",
       "gps_height                   0\n",
       "installer                 3655\n",
       "longitude                    0\n",
       "latitude                     0\n",
       "wpt_name                     2\n",
       "num_private                  0\n",
       "basin                        0\n",
       "subvillage                 371\n",
       "region                       0\n",
       "region_code                  0\n",
       "district_code                0\n",
       "lga                          0\n",
       "ward                         0\n",
       "population                   0\n",
       "public_meeting            3334\n",
       "recorded_by                  0\n",
       "scheme_management         3878\n",
       "scheme_name              28810\n",
       "permit                    3056\n",
       "construction_year            0\n",
       "extraction_type              0\n",
       "extraction_type_group        0\n",
       "extraction_type_class        0\n",
       "management                   0\n",
       "management_group             0\n",
       "payment                      0\n",
       "payment_type                 0\n",
       "water_quality                0\n",
       "quality_group                0\n",
       "quantity                     0\n",
       "quantity_group               0\n",
       "source                       0\n",
       "source_type                  0\n",
       "source_class                 0\n",
       "waterpoint_type              0\n",
       "waterpoint_type_group        0\n",
       "status_group                 0\n",
       "dtype: int64"
      ]
     },
     "execution_count": 9,
     "metadata": {},
     "output_type": "execute_result"
    }
   ],
   "source": [
    "#Inspect Null values\n",
    "df.isna().sum()"
   ]
  },
  {
   "cell_type": "markdown",
   "id": "7f86cfa1",
   "metadata": {},
   "source": [
    "* There are some null values that pose to be challenge in carrying out this project. Dropping these values will help make my work that much easier.\n",
    "* There are also several columns with missing values and unnecessary duplicated columns."
   ]
  },
  {
   "cell_type": "markdown",
   "id": "656b9411",
   "metadata": {},
   "source": [
    "### Inspecting Status related columns"
   ]
  },
  {
   "cell_type": "code",
   "execution_count": 10,
   "id": "74926e1f",
   "metadata": {},
   "outputs": [
    {
     "data": {
      "text/plain": [
       "status_group\n",
       "functional                 32259\n",
       "non functional             22824\n",
       "functional needs repair     4317\n",
       "Name: count, dtype: int64"
      ]
     },
     "execution_count": 10,
     "metadata": {},
     "output_type": "execute_result"
    }
   ],
   "source": [
    "df['status_group'].value_counts()"
   ]
  },
  {
   "cell_type": "code",
   "execution_count": 11,
   "id": "69fa451e",
   "metadata": {},
   "outputs": [
    {
     "data": {
      "image/png": "[encoded data removed]",
      "text/plain": [
       "<Figure size 640x480 with 1 Axes>"
      ]
     },
     "metadata": {},
     "output_type": "display_data"
    }
   ],
   "source": [
    "\n",
    "fig, ax = plt.subplots()\n",
    "sns.barplot(x = df['status_group'].value_counts().index, y = df['status_group'].value_counts(), ax=ax)\n",
    "ax.set_title('Waterpoint Functionality')\n",
    "ax.set_ylabel('Count')\n",
    "plt.show()"
   ]
  },
  {
   "cell_type": "markdown",
   "id": "28563b49",
   "metadata": {},
   "source": [
    "### Inspecting construction_year column"
   ]
  },
  {
   "cell_type": "code",
   "execution_count": 12,
   "id": "668ab148",
   "metadata": {},
   "outputs": [
    {
     "data": {
      "text/plain": [
       "construction_year\n",
       "0       20709\n",
       "2010     2645\n",
       "2008     2613\n",
       "2009     2533\n",
       "2000     2091\n",
       "2007     1587\n",
       "2006     1471\n",
       "2003     1286\n",
       "2011     1256\n",
       "2004     1123\n",
       "2012     1084\n",
       "2002     1075\n",
       "1978     1037\n",
       "1995     1014\n",
       "2005     1011\n",
       "1999      979\n",
       "1998      966\n",
       "1990      954\n",
       "1985      945\n",
       "1980      811\n",
       "1996      811\n",
       "1984      779\n",
       "1982      744\n",
       "1994      738\n",
       "1972      708\n",
       "1974      676\n",
       "1997      644\n",
       "1992      640\n",
       "1993      608\n",
       "2001      540\n",
       "1988      521\n",
       "1983      488\n",
       "1975      437\n",
       "1986      434\n",
       "1976      414\n",
       "1970      411\n",
       "1991      324\n",
       "1989      316\n",
       "1987      302\n",
       "1981      238\n",
       "1977      202\n",
       "1979      192\n",
       "1973      184\n",
       "2013      176\n",
       "1971      145\n",
       "1960      102\n",
       "1967       88\n",
       "1963       85\n",
       "1968       77\n",
       "1969       59\n",
       "1964       40\n",
       "1962       30\n",
       "1961       21\n",
       "1965       19\n",
       "1966       17\n",
       "Name: count, dtype: int64"
      ]
     },
     "execution_count": 12,
     "metadata": {},
     "output_type": "execute_result"
    }
   ],
   "source": [
    "df['construction_year'].value_counts()"
   ]
  },
  {
   "cell_type": "code",
   "execution_count": 13,
   "id": "6eabe82d",
   "metadata": {},
   "outputs": [],
   "source": [
    "# Create new column decade\n",
    "df['decade'] = df['construction_year'] "
   ]
  },
  {
   "cell_type": "code",
   "execution_count": 14,
   "id": "9658c899",
   "metadata": {},
   "outputs": [],
   "source": [
    "# Categorizing the new column decade\n",
    "\n",
    "df['decade'].replace(to_replace = (1960,1961,1962,1963,1964,1965,1966,1967,1968,1969),\n",
    "                        value ='60s' , inplace=True)\n",
    "df['decade'].replace(to_replace = (1970,1971,1972,1973,1974,1975,1976,1977,1978,1979),\n",
    "                        value ='70s' , inplace=True)\n",
    "df['decade'].replace(to_replace = (1980,1981,1982,1983,1984,1985,1986,1987,1988,1989),\n",
    "                        value ='80s' , inplace=True)\n",
    "df['decade'].replace(to_replace = (1990,1991,1992,1993,1994,1995,1996,1997,1998,1999),\n",
    "                        value ='90s' , inplace=True)\n",
    "df['decade'].replace(to_replace = (2000,2001,2002,2003,2004,2005,2006,2007,2008,2009),\n",
    "                        value ='00s' , inplace=True)\n",
    "df['decade'].replace(to_replace = (2010,2011,2012,2013),\n",
    "                        value ='10s' , inplace=True)"
   ]
  },
  {
   "cell_type": "code",
   "execution_count": 15,
   "id": "6bb47614",
   "metadata": {},
   "outputs": [
    {
     "data": {
      "text/plain": [
       "decade\n",
       "0      20709\n",
       "00s    15330\n",
       "90s     7678\n",
       "80s     5578\n",
       "10s     5161\n",
       "70s     4406\n",
       "60s      538\n",
       "Name: count, dtype: int64"
      ]
     },
     "execution_count": 15,
     "metadata": {},
     "output_type": "execute_result"
    }
   ],
   "source": [
    "df['decade'].value_counts()"
   ]
  },
  {
   "cell_type": "code",
   "execution_count": 16,
   "id": "b5387924",
   "metadata": {},
   "outputs": [
    {
     "data": {
      "text/html": [
       "<div>\n",
       "<style scoped>\n",
       "    .dataframe tbody tr th:only-of-type {\n",
       "        vertical-align: middle;\n",
       "    }\n",
       "\n",
       "    .dataframe tbody tr th {\n",
       "        vertical-align: top;\n",
       "    }\n",
       "\n",
       "    .dataframe thead th {\n",
       "        text-align: right;\n",
       "    }\n",
       "</style>\n",
       "<table border=\"1\" class=\"dataframe\">\n",
       "  <thead>\n",
       "    <tr style=\"text-align: right;\">\n",
       "      <th></th>\n",
       "      <th>id</th>\n",
       "      <th>amount_tsh</th>\n",
       "      <th>gps_height</th>\n",
       "      <th>longitude</th>\n",
       "      <th>latitude</th>\n",
       "      <th>num_private</th>\n",
       "      <th>region_code</th>\n",
       "      <th>district_code</th>\n",
       "      <th>population</th>\n",
       "      <th>construction_year</th>\n",
       "    </tr>\n",
       "  </thead>\n",
       "  <tbody>\n",
       "    <tr>\n",
       "      <th>count</th>\n",
       "      <td>38691.000000</td>\n",
       "      <td>38691.000000</td>\n",
       "      <td>38691.000000</td>\n",
       "      <td>38691.000000</td>\n",
       "      <td>38691.000000</td>\n",
       "      <td>38691.000000</td>\n",
       "      <td>38691.000000</td>\n",
       "      <td>38691.000000</td>\n",
       "      <td>38691.000000</td>\n",
       "      <td>38691.000000</td>\n",
       "    </tr>\n",
       "    <tr>\n",
       "      <th>mean</th>\n",
       "      <td>37083.008736</td>\n",
       "      <td>466.457534</td>\n",
       "      <td>1002.367760</td>\n",
       "      <td>35.983262</td>\n",
       "      <td>-6.235372</td>\n",
       "      <td>0.707710</td>\n",
       "      <td>15.706495</td>\n",
       "      <td>5.969786</td>\n",
       "      <td>269.799617</td>\n",
       "      <td>1996.814686</td>\n",
       "    </tr>\n",
       "    <tr>\n",
       "      <th>std</th>\n",
       "      <td>21420.922010</td>\n",
       "      <td>3541.036030</td>\n",
       "      <td>618.078669</td>\n",
       "      <td>2.558709</td>\n",
       "      <td>2.761317</td>\n",
       "      <td>15.083957</td>\n",
       "      <td>21.003006</td>\n",
       "      <td>10.700673</td>\n",
       "      <td>552.343746</td>\n",
       "      <td>12.472045</td>\n",
       "    </tr>\n",
       "    <tr>\n",
       "      <th>min</th>\n",
       "      <td>1.000000</td>\n",
       "      <td>0.000000</td>\n",
       "      <td>-63.000000</td>\n",
       "      <td>29.607122</td>\n",
       "      <td>-11.649440</td>\n",
       "      <td>0.000000</td>\n",
       "      <td>2.000000</td>\n",
       "      <td>1.000000</td>\n",
       "      <td>0.000000</td>\n",
       "      <td>1960.000000</td>\n",
       "    </tr>\n",
       "    <tr>\n",
       "      <th>25%</th>\n",
       "      <td>18489.500000</td>\n",
       "      <td>0.000000</td>\n",
       "      <td>372.000000</td>\n",
       "      <td>34.676719</td>\n",
       "      <td>-8.755274</td>\n",
       "      <td>0.000000</td>\n",
       "      <td>4.000000</td>\n",
       "      <td>2.000000</td>\n",
       "      <td>30.000000</td>\n",
       "      <td>1987.000000</td>\n",
       "    </tr>\n",
       "    <tr>\n",
       "      <th>50%</th>\n",
       "      <td>37078.000000</td>\n",
       "      <td>0.000000</td>\n",
       "      <td>1154.000000</td>\n",
       "      <td>36.648187</td>\n",
       "      <td>-6.064216</td>\n",
       "      <td>0.000000</td>\n",
       "      <td>11.000000</td>\n",
       "      <td>3.000000</td>\n",
       "      <td>150.000000</td>\n",
       "      <td>2000.000000</td>\n",
       "    </tr>\n",
       "    <tr>\n",
       "      <th>75%</th>\n",
       "      <td>55514.500000</td>\n",
       "      <td>200.000000</td>\n",
       "      <td>1488.000000</td>\n",
       "      <td>37.803940</td>\n",
       "      <td>-3.650661</td>\n",
       "      <td>0.000000</td>\n",
       "      <td>16.000000</td>\n",
       "      <td>5.000000</td>\n",
       "      <td>305.000000</td>\n",
       "      <td>2008.000000</td>\n",
       "    </tr>\n",
       "    <tr>\n",
       "      <th>max</th>\n",
       "      <td>74247.000000</td>\n",
       "      <td>350000.000000</td>\n",
       "      <td>2770.000000</td>\n",
       "      <td>40.345193</td>\n",
       "      <td>-1.042375</td>\n",
       "      <td>1776.000000</td>\n",
       "      <td>99.000000</td>\n",
       "      <td>63.000000</td>\n",
       "      <td>30500.000000</td>\n",
       "      <td>2013.000000</td>\n",
       "    </tr>\n",
       "  </tbody>\n",
       "</table>\n",
       "</div>"
      ],
      "text/plain": [
       "                 id     amount_tsh    gps_height     longitude      latitude  \\\n",
       "count  38691.000000   38691.000000  38691.000000  38691.000000  38691.000000   \n",
       "mean   37083.008736     466.457534   1002.367760     35.983262     -6.235372   \n",
       "std    21420.922010    3541.036030    618.078669      2.558709      2.761317   \n",
       "min        1.000000       0.000000    -63.000000     29.607122    -11.649440   \n",
       "25%    18489.500000       0.000000    372.000000     34.676719     -8.755274   \n",
       "50%    37078.000000       0.000000   1154.000000     36.648187     -6.064216   \n",
       "75%    55514.500000     200.000000   1488.000000     37.803940     -3.650661   \n",
       "max    74247.000000  350000.000000   2770.000000     40.345193     -1.042375   \n",
       "\n",
       "        num_private   region_code  district_code    population  \\\n",
       "count  38691.000000  38691.000000   38691.000000  38691.000000   \n",
       "mean       0.707710     15.706495       5.969786    269.799617   \n",
       "std       15.083957     21.003006      10.700673    552.343746   \n",
       "min        0.000000      2.000000       1.000000      0.000000   \n",
       "25%        0.000000      4.000000       2.000000     30.000000   \n",
       "50%        0.000000     11.000000       3.000000    150.000000   \n",
       "75%        0.000000     16.000000       5.000000    305.000000   \n",
       "max     1776.000000     99.000000      63.000000  30500.000000   \n",
       "\n",
       "       construction_year  \n",
       "count       38691.000000  \n",
       "mean         1996.814686  \n",
       "std            12.472045  \n",
       "min          1960.000000  \n",
       "25%          1987.000000  \n",
       "50%          2000.000000  \n",
       "75%          2008.000000  \n",
       "max          2013.000000  "
      ]
     },
     "execution_count": 16,
     "metadata": {},
     "output_type": "execute_result"
    }
   ],
   "source": [
    "df.loc[df['construction_year']!=0].describe()"
   ]
  },
  {
   "cell_type": "code",
   "execution_count": 17,
   "id": "d0a09efb",
   "metadata": {},
   "outputs": [],
   "source": [
    "# Handling the missing values in construction year column\n",
    "df['construction_year'].replace(to_replace = 0, value = 2000, inplace=True)"
   ]
  },
  {
   "cell_type": "code",
   "execution_count": 18,
   "id": "a6b194b8",
   "metadata": {},
   "outputs": [
    {
     "data": {
      "image/png": "[encoded data removed]",
      "text/plain": [
       "<Figure size 2000x1000 with 1 Axes>"
      ]
     },
     "metadata": {},
     "output_type": "display_data"
    }
   ],
   "source": [
    "plt.figure(figsize=(20,10))\n",
    "ax = sns.countplot(x='decade', hue=\"status_group\", data=df)"
   ]
  },
  {
   "cell_type": "markdown",
   "id": "f407593b",
   "metadata": {},
   "source": [
    "The plot shows the distribution of the construction years on the water wells. We observe that wells dug in the 00s remain the most functional to date. However, Wells constructed in the 60s are represent the fewest functional wells. We will continue to analyze this data to gain more insights. "
   ]
  },
  {
   "cell_type": "markdown",
   "id": "59d5c748",
   "metadata": {},
   "source": [
    "### Inspecting the Installer column"
   ]
  },
  {
   "cell_type": "code",
   "execution_count": 19,
   "id": "d9cb77cf",
   "metadata": {},
   "outputs": [],
   "source": [
    "#Handling null values\n",
    "df['installer'].fillna(value='Unknown',inplace=True)"
   ]
  },
  {
   "cell_type": "code",
   "execution_count": 20,
   "id": "cd2709fd",
   "metadata": {},
   "outputs": [],
   "source": [
    "df['installer'].replace(to_replace = '0', value ='Unknown' , inplace=True) # filling 0 values with unknown"
   ]
  },
  {
   "cell_type": "code",
   "execution_count": 21,
   "id": "5c6d19f7",
   "metadata": {},
   "outputs": [
    {
     "data": {
      "text/plain": [
       "installer\n",
       "DWE                   17402\n",
       "Unknown                4435\n",
       "Government             1825\n",
       "RWE                    1206\n",
       "Commu                  1060\n",
       "DANIDA                 1050\n",
       "KKKT                    898\n",
       "Hesawa                  840\n",
       "TCRS                    707\n",
       "Central government      622\n",
       "CES                     610\n",
       "Community               553\n",
       "DANID                   552\n",
       "District Council        551\n",
       "HESAWA                  539\n",
       "Name: count, dtype: int64"
      ]
     },
     "execution_count": 21,
     "metadata": {},
     "output_type": "execute_result"
    }
   ],
   "source": [
    "df['installer'].value_counts().head(15)"
   ]
  },
  {
   "cell_type": "markdown",
   "id": "c17af46f",
   "metadata": {},
   "source": [
    "### Inspecting the recorded_by column"
   ]
  },
  {
   "cell_type": "code",
   "execution_count": 22,
   "id": "e6a2ad83",
   "metadata": {},
   "outputs": [
    {
     "data": {
      "text/plain": [
       "recorded_by\n",
       "GeoData Consultants Ltd    59400\n",
       "Name: count, dtype: int64"
      ]
     },
     "execution_count": 22,
     "metadata": {},
     "output_type": "execute_result"
    }
   ],
   "source": [
    "df['recorded_by'].value_counts()"
   ]
  },
  {
   "cell_type": "code",
   "execution_count": 23,
   "id": "d3a49e72",
   "metadata": {},
   "outputs": [],
   "source": [
    "#Drop column as it is irrelevant to study\n",
    "df.drop(columns=['recorded_by'],inplace=True )"
   ]
  },
  {
   "cell_type": "markdown",
   "id": "ae504976",
   "metadata": {},
   "source": [
    "### Inspecting source related columns"
   ]
  },
  {
   "cell_type": "markdown",
   "id": "a7b38587",
   "metadata": {},
   "source": [
    "For instance we have the 'source', 'source_type' and 'source_class_columns. Let us inspect these columns."
   ]
  },
  {
   "cell_type": "code",
   "execution_count": 24,
   "id": "7337b99d",
   "metadata": {},
   "outputs": [
    {
     "data": {
      "text/plain": [
       "source\n",
       "spring                  17021\n",
       "shallow well            16824\n",
       "machine dbh             11075\n",
       "river                    9612\n",
       "rainwater harvesting     2295\n",
       "hand dtw                  874\n",
       "lake                      765\n",
       "dam                       656\n",
       "other                     212\n",
       "unknown                    66\n",
       "Name: count, dtype: int64"
      ]
     },
     "execution_count": 24,
     "metadata": {},
     "output_type": "execute_result"
    }
   ],
   "source": [
    "df['source'].value_counts()"
   ]
  },
  {
   "cell_type": "code",
   "execution_count": 25,
   "id": "6636620e",
   "metadata": {},
   "outputs": [
    {
     "data": {
      "text/plain": [
       "source_type\n",
       "spring                  17021\n",
       "shallow well            16824\n",
       "borehole                11949\n",
       "river/lake              10377\n",
       "rainwater harvesting     2295\n",
       "dam                       656\n",
       "other                     278\n",
       "Name: count, dtype: int64"
      ]
     },
     "execution_count": 25,
     "metadata": {},
     "output_type": "execute_result"
    }
   ],
   "source": [
    "df['source_type'].value_counts()"
   ]
  },
  {
   "cell_type": "code",
   "execution_count": 26,
   "id": "5c33a09e",
   "metadata": {},
   "outputs": [
    {
     "data": {
      "text/plain": [
       "source_class\n",
       "groundwater    45794\n",
       "surface        13328\n",
       "unknown          278\n",
       "Name: count, dtype: int64"
      ]
     },
     "execution_count": 26,
     "metadata": {},
     "output_type": "execute_result"
    }
   ],
   "source": [
    "df['source_class'].value_counts()"
   ]
  },
  {
   "cell_type": "code",
   "execution_count": 27,
   "id": "a408baf7",
   "metadata": {},
   "outputs": [
    {
     "data": {
      "text/html": [
       "<div>\n",
       "<style scoped>\n",
       "    .dataframe tbody tr th:only-of-type {\n",
       "        vertical-align: middle;\n",
       "    }\n",
       "\n",
       "    .dataframe tbody tr th {\n",
       "        vertical-align: top;\n",
       "    }\n",
       "\n",
       "    .dataframe thead th {\n",
       "        text-align: right;\n",
       "    }\n",
       "</style>\n",
       "<table border=\"1\" class=\"dataframe\">\n",
       "  <thead>\n",
       "    <tr style=\"text-align: right;\">\n",
       "      <th></th>\n",
       "      <th></th>\n",
       "      <th>id</th>\n",
       "      <th>amount_tsh</th>\n",
       "      <th>date_recorded</th>\n",
       "      <th>funder</th>\n",
       "      <th>gps_height</th>\n",
       "      <th>installer</th>\n",
       "      <th>longitude</th>\n",
       "      <th>latitude</th>\n",
       "      <th>wpt_name</th>\n",
       "      <th>num_private</th>\n",
       "      <th>...</th>\n",
       "      <th>payment_type</th>\n",
       "      <th>water_quality</th>\n",
       "      <th>quality_group</th>\n",
       "      <th>quantity</th>\n",
       "      <th>quantity_group</th>\n",
       "      <th>source_type</th>\n",
       "      <th>waterpoint_type</th>\n",
       "      <th>waterpoint_type_group</th>\n",
       "      <th>status_group</th>\n",
       "      <th>decade</th>\n",
       "    </tr>\n",
       "    <tr>\n",
       "      <th>source_class</th>\n",
       "      <th>source</th>\n",
       "      <th></th>\n",
       "      <th></th>\n",
       "      <th></th>\n",
       "      <th></th>\n",
       "      <th></th>\n",
       "      <th></th>\n",
       "      <th></th>\n",
       "      <th></th>\n",
       "      <th></th>\n",
       "      <th></th>\n",
       "      <th></th>\n",
       "      <th></th>\n",
       "      <th></th>\n",
       "      <th></th>\n",
       "      <th></th>\n",
       "      <th></th>\n",
       "      <th></th>\n",
       "      <th></th>\n",
       "      <th></th>\n",
       "      <th></th>\n",
       "      <th></th>\n",
       "    </tr>\n",
       "  </thead>\n",
       "  <tbody>\n",
       "    <tr>\n",
       "      <th rowspan=\"4\" valign=\"top\">groundwater</th>\n",
       "      <th>hand dtw</th>\n",
       "      <td>874</td>\n",
       "      <td>874</td>\n",
       "      <td>874</td>\n",
       "      <td>868</td>\n",
       "      <td>874</td>\n",
       "      <td>874</td>\n",
       "      <td>874</td>\n",
       "      <td>874</td>\n",
       "      <td>874</td>\n",
       "      <td>874</td>\n",
       "      <td>...</td>\n",
       "      <td>874</td>\n",
       "      <td>874</td>\n",
       "      <td>874</td>\n",
       "      <td>874</td>\n",
       "      <td>874</td>\n",
       "      <td>874</td>\n",
       "      <td>874</td>\n",
       "      <td>874</td>\n",
       "      <td>874</td>\n",
       "      <td>874</td>\n",
       "    </tr>\n",
       "    <tr>\n",
       "      <th>machine dbh</th>\n",
       "      <td>11075</td>\n",
       "      <td>11075</td>\n",
       "      <td>11075</td>\n",
       "      <td>10251</td>\n",
       "      <td>11075</td>\n",
       "      <td>11075</td>\n",
       "      <td>11075</td>\n",
       "      <td>11075</td>\n",
       "      <td>11074</td>\n",
       "      <td>11075</td>\n",
       "      <td>...</td>\n",
       "      <td>11075</td>\n",
       "      <td>11075</td>\n",
       "      <td>11075</td>\n",
       "      <td>11075</td>\n",
       "      <td>11075</td>\n",
       "      <td>11075</td>\n",
       "      <td>11075</td>\n",
       "      <td>11075</td>\n",
       "      <td>11075</td>\n",
       "      <td>11075</td>\n",
       "    </tr>\n",
       "    <tr>\n",
       "      <th>shallow well</th>\n",
       "      <td>16824</td>\n",
       "      <td>16824</td>\n",
       "      <td>16824</td>\n",
       "      <td>16301</td>\n",
       "      <td>16824</td>\n",
       "      <td>16824</td>\n",
       "      <td>16824</td>\n",
       "      <td>16824</td>\n",
       "      <td>16824</td>\n",
       "      <td>16824</td>\n",
       "      <td>...</td>\n",
       "      <td>16824</td>\n",
       "      <td>16824</td>\n",
       "      <td>16824</td>\n",
       "      <td>16824</td>\n",
       "      <td>16824</td>\n",
       "      <td>16824</td>\n",
       "      <td>16824</td>\n",
       "      <td>16824</td>\n",
       "      <td>16824</td>\n",
       "      <td>16824</td>\n",
       "    </tr>\n",
       "    <tr>\n",
       "      <th>spring</th>\n",
       "      <td>17021</td>\n",
       "      <td>17021</td>\n",
       "      <td>17021</td>\n",
       "      <td>15870</td>\n",
       "      <td>17021</td>\n",
       "      <td>17021</td>\n",
       "      <td>17021</td>\n",
       "      <td>17021</td>\n",
       "      <td>17020</td>\n",
       "      <td>17021</td>\n",
       "      <td>...</td>\n",
       "      <td>17021</td>\n",
       "      <td>17021</td>\n",
       "      <td>17021</td>\n",
       "      <td>17021</td>\n",
       "      <td>17021</td>\n",
       "      <td>17021</td>\n",
       "      <td>17021</td>\n",
       "      <td>17021</td>\n",
       "      <td>17021</td>\n",
       "      <td>17021</td>\n",
       "    </tr>\n",
       "    <tr>\n",
       "      <th rowspan=\"4\" valign=\"top\">surface</th>\n",
       "      <th>dam</th>\n",
       "      <td>656</td>\n",
       "      <td>656</td>\n",
       "      <td>656</td>\n",
       "      <td>647</td>\n",
       "      <td>656</td>\n",
       "      <td>656</td>\n",
       "      <td>656</td>\n",
       "      <td>656</td>\n",
       "      <td>656</td>\n",
       "      <td>656</td>\n",
       "      <td>...</td>\n",
       "      <td>656</td>\n",
       "      <td>656</td>\n",
       "      <td>656</td>\n",
       "      <td>656</td>\n",
       "      <td>656</td>\n",
       "      <td>656</td>\n",
       "      <td>656</td>\n",
       "      <td>656</td>\n",
       "      <td>656</td>\n",
       "      <td>656</td>\n",
       "    </tr>\n",
       "    <tr>\n",
       "      <th>lake</th>\n",
       "      <td>765</td>\n",
       "      <td>765</td>\n",
       "      <td>765</td>\n",
       "      <td>763</td>\n",
       "      <td>765</td>\n",
       "      <td>765</td>\n",
       "      <td>765</td>\n",
       "      <td>765</td>\n",
       "      <td>765</td>\n",
       "      <td>765</td>\n",
       "      <td>...</td>\n",
       "      <td>765</td>\n",
       "      <td>765</td>\n",
       "      <td>765</td>\n",
       "      <td>765</td>\n",
       "      <td>765</td>\n",
       "      <td>765</td>\n",
       "      <td>765</td>\n",
       "      <td>765</td>\n",
       "      <td>765</td>\n",
       "      <td>765</td>\n",
       "    </tr>\n",
       "    <tr>\n",
       "      <th>rainwater harvesting</th>\n",
       "      <td>2295</td>\n",
       "      <td>2295</td>\n",
       "      <td>2295</td>\n",
       "      <td>2099</td>\n",
       "      <td>2295</td>\n",
       "      <td>2295</td>\n",
       "      <td>2295</td>\n",
       "      <td>2295</td>\n",
       "      <td>2295</td>\n",
       "      <td>2295</td>\n",
       "      <td>...</td>\n",
       "      <td>2295</td>\n",
       "      <td>2295</td>\n",
       "      <td>2295</td>\n",
       "      <td>2295</td>\n",
       "      <td>2295</td>\n",
       "      <td>2295</td>\n",
       "      <td>2295</td>\n",
       "      <td>2295</td>\n",
       "      <td>2295</td>\n",
       "      <td>2295</td>\n",
       "    </tr>\n",
       "    <tr>\n",
       "      <th>river</th>\n",
       "      <td>9612</td>\n",
       "      <td>9612</td>\n",
       "      <td>9612</td>\n",
       "      <td>8715</td>\n",
       "      <td>9612</td>\n",
       "      <td>9612</td>\n",
       "      <td>9612</td>\n",
       "      <td>9612</td>\n",
       "      <td>9612</td>\n",
       "      <td>9612</td>\n",
       "      <td>...</td>\n",
       "      <td>9612</td>\n",
       "      <td>9612</td>\n",
       "      <td>9612</td>\n",
       "      <td>9612</td>\n",
       "      <td>9612</td>\n",
       "      <td>9612</td>\n",
       "      <td>9612</td>\n",
       "      <td>9612</td>\n",
       "      <td>9612</td>\n",
       "      <td>9612</td>\n",
       "    </tr>\n",
       "    <tr>\n",
       "      <th rowspan=\"2\" valign=\"top\">unknown</th>\n",
       "      <th>other</th>\n",
       "      <td>212</td>\n",
       "      <td>212</td>\n",
       "      <td>212</td>\n",
       "      <td>204</td>\n",
       "      <td>212</td>\n",
       "      <td>212</td>\n",
       "      <td>212</td>\n",
       "      <td>212</td>\n",
       "      <td>212</td>\n",
       "      <td>212</td>\n",
       "      <td>...</td>\n",
       "      <td>212</td>\n",
       "      <td>212</td>\n",
       "      <td>212</td>\n",
       "      <td>212</td>\n",
       "      <td>212</td>\n",
       "      <td>212</td>\n",
       "      <td>212</td>\n",
       "      <td>212</td>\n",
       "      <td>212</td>\n",
       "      <td>212</td>\n",
       "    </tr>\n",
       "    <tr>\n",
       "      <th>unknown</th>\n",
       "      <td>66</td>\n",
       "      <td>66</td>\n",
       "      <td>66</td>\n",
       "      <td>45</td>\n",
       "      <td>66</td>\n",
       "      <td>66</td>\n",
       "      <td>66</td>\n",
       "      <td>66</td>\n",
       "      <td>66</td>\n",
       "      <td>66</td>\n",
       "      <td>...</td>\n",
       "      <td>66</td>\n",
       "      <td>66</td>\n",
       "      <td>66</td>\n",
       "      <td>66</td>\n",
       "      <td>66</td>\n",
       "      <td>66</td>\n",
       "      <td>66</td>\n",
       "      <td>66</td>\n",
       "      <td>66</td>\n",
       "      <td>66</td>\n",
       "    </tr>\n",
       "  </tbody>\n",
       "</table>\n",
       "<p>10 rows × 39 columns</p>\n",
       "</div>"
      ],
      "text/plain": [
       "                                      id  amount_tsh  date_recorded  funder  \\\n",
       "source_class source                                                           \n",
       "groundwater  hand dtw                874         874            874     868   \n",
       "             machine dbh           11075       11075          11075   10251   \n",
       "             shallow well          16824       16824          16824   16301   \n",
       "             spring                17021       17021          17021   15870   \n",
       "surface      dam                     656         656            656     647   \n",
       "             lake                    765         765            765     763   \n",
       "             rainwater harvesting   2295        2295           2295    2099   \n",
       "             river                  9612        9612           9612    8715   \n",
       "unknown      other                   212         212            212     204   \n",
       "             unknown                  66          66             66      45   \n",
       "\n",
       "                                   gps_height  installer  longitude  latitude  \\\n",
       "source_class source                                                             \n",
       "groundwater  hand dtw                     874        874        874       874   \n",
       "             machine dbh                11075      11075      11075     11075   \n",
       "             shallow well               16824      16824      16824     16824   \n",
       "             spring                     17021      17021      17021     17021   \n",
       "surface      dam                          656        656        656       656   \n",
       "             lake                         765        765        765       765   \n",
       "             rainwater harvesting        2295       2295       2295      2295   \n",
       "             river                       9612       9612       9612      9612   \n",
       "unknown      other                        212        212        212       212   \n",
       "             unknown                       66         66         66        66   \n",
       "\n",
       "                                   wpt_name  num_private  ...  payment_type  \\\n",
       "source_class source                                       ...                 \n",
       "groundwater  hand dtw                   874          874  ...           874   \n",
       "             machine dbh              11074        11075  ...         11075   \n",
       "             shallow well             16824        16824  ...         16824   \n",
       "             spring                   17020        17021  ...         17021   \n",
       "surface      dam                        656          656  ...           656   \n",
       "             lake                       765          765  ...           765   \n",
       "             rainwater harvesting      2295         2295  ...          2295   \n",
       "             river                     9612         9612  ...          9612   \n",
       "unknown      other                      212          212  ...           212   \n",
       "             unknown                     66           66  ...            66   \n",
       "\n",
       "                                   water_quality  quality_group  quantity  \\\n",
       "source_class source                                                         \n",
       "groundwater  hand dtw                        874            874       874   \n",
       "             machine dbh                   11075          11075     11075   \n",
       "             shallow well                  16824          16824     16824   \n",
       "             spring                        17021          17021     17021   \n",
       "surface      dam                             656            656       656   \n",
       "             lake                            765            765       765   \n",
       "             rainwater harvesting           2295           2295      2295   \n",
       "             river                          9612           9612      9612   \n",
       "unknown      other                           212            212       212   \n",
       "             unknown                          66             66        66   \n",
       "\n",
       "                                   quantity_group  source_type  \\\n",
       "source_class source                                              \n",
       "groundwater  hand dtw                         874          874   \n",
       "             machine dbh                    11075        11075   \n",
       "             shallow well                   16824        16824   \n",
       "             spring                         17021        17021   \n",
       "surface      dam                              656          656   \n",
       "             lake                             765          765   \n",
       "             rainwater harvesting            2295         2295   \n",
       "             river                           9612         9612   \n",
       "unknown      other                            212          212   \n",
       "             unknown                           66           66   \n",
       "\n",
       "                                   waterpoint_type  waterpoint_type_group  \\\n",
       "source_class source                                                         \n",
       "groundwater  hand dtw                          874                    874   \n",
       "             machine dbh                     11075                  11075   \n",
       "             shallow well                    16824                  16824   \n",
       "             spring                          17021                  17021   \n",
       "surface      dam                               656                    656   \n",
       "             lake                              765                    765   \n",
       "             rainwater harvesting             2295                   2295   \n",
       "             river                            9612                   9612   \n",
       "unknown      other                             212                    212   \n",
       "             unknown                            66                     66   \n",
       "\n",
       "                                   status_group  decade  \n",
       "source_class source                                      \n",
       "groundwater  hand dtw                       874     874  \n",
       "             machine dbh                  11075   11075  \n",
       "             shallow well                 16824   16824  \n",
       "             spring                       17021   17021  \n",
       "surface      dam                            656     656  \n",
       "             lake                           765     765  \n",
       "             rainwater harvesting          2295    2295  \n",
       "             river                         9612    9612  \n",
       "unknown      other                          212     212  \n",
       "             unknown                         66      66  \n",
       "\n",
       "[10 rows x 39 columns]"
      ]
     },
     "execution_count": 27,
     "metadata": {},
     "output_type": "execute_result"
    }
   ],
   "source": [
    "df.groupby(['source_class', 'source']).count()"
   ]
  },
  {
   "cell_type": "markdown",
   "id": "68b96f7b",
   "metadata": {},
   "source": [
    "From inspecting this data, i note that these columns contain relatively similar data. However the 'source' column contains more data that is relevant to my analysis."
   ]
  },
  {
   "cell_type": "code",
   "execution_count": 28,
   "id": "0d51e495",
   "metadata": {},
   "outputs": [
    {
     "data": {
      "image/png": "[encoded data removed]",
      "text/plain": [
       "<Figure size 640x480 with 1 Axes>"
      ]
     },
     "metadata": {},
     "output_type": "display_data"
    }
   ],
   "source": [
    "ax = sns.countplot(x='source_class', hue=\"status_group\", data=df)"
   ]
  },
  {
   "cell_type": "markdown",
   "id": "b57b17c5",
   "metadata": {},
   "source": [
    "The majority of the water wells are groundwater, followed by surface and unknown. This suggests that groundwater is the most common source of water wells. The graph also shows that the majority of the water wells are functional, indicating that the water supply is reliable from groundwater."
   ]
  },
  {
   "cell_type": "code",
   "execution_count": 29,
   "id": "3ec789b7",
   "metadata": {},
   "outputs": [],
   "source": [
    "df.drop(columns=['source_class', 'source_type'], inplace = True)"
   ]
  },
  {
   "cell_type": "markdown",
   "id": "bfea9d9b",
   "metadata": {},
   "source": [
    "### Inspecting Management related columns"
   ]
  },
  {
   "cell_type": "markdown",
   "id": "59bf76cd",
   "metadata": {},
   "source": [
    "We have the columns 'management' and 'scheme_management. Let us see what is contained in the following columns"
   ]
  },
  {
   "cell_type": "code",
   "execution_count": 30,
   "id": "8e6bc36e",
   "metadata": {},
   "outputs": [
    {
     "data": {
      "text/plain": [
       "management\n",
       "vwc                 40507\n",
       "wug                  6515\n",
       "water board          2933\n",
       "wua                  2535\n",
       "private operator     1971\n",
       "parastatal           1768\n",
       "water authority       904\n",
       "other                 844\n",
       "company               685\n",
       "unknown               561\n",
       "other - school         99\n",
       "trust                  78\n",
       "Name: count, dtype: int64"
      ]
     },
     "execution_count": 30,
     "metadata": {},
     "output_type": "execute_result"
    }
   ],
   "source": [
    "df['management'].value_counts()"
   ]
  },
  {
   "cell_type": "code",
   "execution_count": 31,
   "id": "31892c75",
   "metadata": {},
   "outputs": [
    {
     "data": {
      "text/plain": [
       "management_group\n",
       "user-group    52490\n",
       "commercial     3638\n",
       "parastatal     1768\n",
       "other           943\n",
       "unknown         561\n",
       "Name: count, dtype: int64"
      ]
     },
     "execution_count": 31,
     "metadata": {},
     "output_type": "execute_result"
    }
   ],
   "source": [
    "df['management_group'].value_counts()"
   ]
  },
  {
   "cell_type": "markdown",
   "id": "dc4b2f77",
   "metadata": {},
   "source": [
    "These two columns provide us with the same information in our analysis. Therefore we will opt to remain with the 'management' column as it is easier to manage."
   ]
  },
  {
   "cell_type": "code",
   "execution_count": 32,
   "id": "26b507ca",
   "metadata": {},
   "outputs": [
    {
     "data": {
      "text/html": [
       "<div>\n",
       "<style scoped>\n",
       "    .dataframe tbody tr th:only-of-type {\n",
       "        vertical-align: middle;\n",
       "    }\n",
       "\n",
       "    .dataframe tbody tr th {\n",
       "        vertical-align: top;\n",
       "    }\n",
       "\n",
       "    .dataframe thead th {\n",
       "        text-align: right;\n",
       "    }\n",
       "</style>\n",
       "<table border=\"1\" class=\"dataframe\">\n",
       "  <thead>\n",
       "    <tr style=\"text-align: right;\">\n",
       "      <th></th>\n",
       "      <th></th>\n",
       "      <th>id</th>\n",
       "      <th>amount_tsh</th>\n",
       "      <th>date_recorded</th>\n",
       "      <th>funder</th>\n",
       "      <th>gps_height</th>\n",
       "      <th>installer</th>\n",
       "      <th>longitude</th>\n",
       "      <th>latitude</th>\n",
       "      <th>wpt_name</th>\n",
       "      <th>num_private</th>\n",
       "      <th>...</th>\n",
       "      <th>payment_type</th>\n",
       "      <th>water_quality</th>\n",
       "      <th>quality_group</th>\n",
       "      <th>quantity</th>\n",
       "      <th>quantity_group</th>\n",
       "      <th>source</th>\n",
       "      <th>waterpoint_type</th>\n",
       "      <th>waterpoint_type_group</th>\n",
       "      <th>status_group</th>\n",
       "      <th>decade</th>\n",
       "    </tr>\n",
       "    <tr>\n",
       "      <th>management_group</th>\n",
       "      <th>management</th>\n",
       "      <th></th>\n",
       "      <th></th>\n",
       "      <th></th>\n",
       "      <th></th>\n",
       "      <th></th>\n",
       "      <th></th>\n",
       "      <th></th>\n",
       "      <th></th>\n",
       "      <th></th>\n",
       "      <th></th>\n",
       "      <th></th>\n",
       "      <th></th>\n",
       "      <th></th>\n",
       "      <th></th>\n",
       "      <th></th>\n",
       "      <th></th>\n",
       "      <th></th>\n",
       "      <th></th>\n",
       "      <th></th>\n",
       "      <th></th>\n",
       "      <th></th>\n",
       "    </tr>\n",
       "  </thead>\n",
       "  <tbody>\n",
       "    <tr>\n",
       "      <th rowspan=\"4\" valign=\"top\">commercial</th>\n",
       "      <th>company</th>\n",
       "      <td>685</td>\n",
       "      <td>685</td>\n",
       "      <td>685</td>\n",
       "      <td>663</td>\n",
       "      <td>685</td>\n",
       "      <td>685</td>\n",
       "      <td>685</td>\n",
       "      <td>685</td>\n",
       "      <td>685</td>\n",
       "      <td>685</td>\n",
       "      <td>...</td>\n",
       "      <td>685</td>\n",
       "      <td>685</td>\n",
       "      <td>685</td>\n",
       "      <td>685</td>\n",
       "      <td>685</td>\n",
       "      <td>685</td>\n",
       "      <td>685</td>\n",
       "      <td>685</td>\n",
       "      <td>685</td>\n",
       "      <td>685</td>\n",
       "    </tr>\n",
       "    <tr>\n",
       "      <th>private operator</th>\n",
       "      <td>1971</td>\n",
       "      <td>1971</td>\n",
       "      <td>1971</td>\n",
       "      <td>1957</td>\n",
       "      <td>1971</td>\n",
       "      <td>1971</td>\n",
       "      <td>1971</td>\n",
       "      <td>1971</td>\n",
       "      <td>1971</td>\n",
       "      <td>1971</td>\n",
       "      <td>...</td>\n",
       "      <td>1971</td>\n",
       "      <td>1971</td>\n",
       "      <td>1971</td>\n",
       "      <td>1971</td>\n",
       "      <td>1971</td>\n",
       "      <td>1971</td>\n",
       "      <td>1971</td>\n",
       "      <td>1971</td>\n",
       "      <td>1971</td>\n",
       "      <td>1971</td>\n",
       "    </tr>\n",
       "    <tr>\n",
       "      <th>trust</th>\n",
       "      <td>78</td>\n",
       "      <td>78</td>\n",
       "      <td>78</td>\n",
       "      <td>78</td>\n",
       "      <td>78</td>\n",
       "      <td>78</td>\n",
       "      <td>78</td>\n",
       "      <td>78</td>\n",
       "      <td>78</td>\n",
       "      <td>78</td>\n",
       "      <td>...</td>\n",
       "      <td>78</td>\n",
       "      <td>78</td>\n",
       "      <td>78</td>\n",
       "      <td>78</td>\n",
       "      <td>78</td>\n",
       "      <td>78</td>\n",
       "      <td>78</td>\n",
       "      <td>78</td>\n",
       "      <td>78</td>\n",
       "      <td>78</td>\n",
       "    </tr>\n",
       "    <tr>\n",
       "      <th>water authority</th>\n",
       "      <td>904</td>\n",
       "      <td>904</td>\n",
       "      <td>904</td>\n",
       "      <td>836</td>\n",
       "      <td>904</td>\n",
       "      <td>904</td>\n",
       "      <td>904</td>\n",
       "      <td>904</td>\n",
       "      <td>904</td>\n",
       "      <td>904</td>\n",
       "      <td>...</td>\n",
       "      <td>904</td>\n",
       "      <td>904</td>\n",
       "      <td>904</td>\n",
       "      <td>904</td>\n",
       "      <td>904</td>\n",
       "      <td>904</td>\n",
       "      <td>904</td>\n",
       "      <td>904</td>\n",
       "      <td>904</td>\n",
       "      <td>904</td>\n",
       "    </tr>\n",
       "    <tr>\n",
       "      <th rowspan=\"2\" valign=\"top\">other</th>\n",
       "      <th>other</th>\n",
       "      <td>844</td>\n",
       "      <td>844</td>\n",
       "      <td>844</td>\n",
       "      <td>837</td>\n",
       "      <td>844</td>\n",
       "      <td>844</td>\n",
       "      <td>844</td>\n",
       "      <td>844</td>\n",
       "      <td>844</td>\n",
       "      <td>844</td>\n",
       "      <td>...</td>\n",
       "      <td>844</td>\n",
       "      <td>844</td>\n",
       "      <td>844</td>\n",
       "      <td>844</td>\n",
       "      <td>844</td>\n",
       "      <td>844</td>\n",
       "      <td>844</td>\n",
       "      <td>844</td>\n",
       "      <td>844</td>\n",
       "      <td>844</td>\n",
       "    </tr>\n",
       "    <tr>\n",
       "      <th>other - school</th>\n",
       "      <td>99</td>\n",
       "      <td>99</td>\n",
       "      <td>99</td>\n",
       "      <td>99</td>\n",
       "      <td>99</td>\n",
       "      <td>99</td>\n",
       "      <td>99</td>\n",
       "      <td>99</td>\n",
       "      <td>99</td>\n",
       "      <td>99</td>\n",
       "      <td>...</td>\n",
       "      <td>99</td>\n",
       "      <td>99</td>\n",
       "      <td>99</td>\n",
       "      <td>99</td>\n",
       "      <td>99</td>\n",
       "      <td>99</td>\n",
       "      <td>99</td>\n",
       "      <td>99</td>\n",
       "      <td>99</td>\n",
       "      <td>99</td>\n",
       "    </tr>\n",
       "    <tr>\n",
       "      <th>parastatal</th>\n",
       "      <th>parastatal</th>\n",
       "      <td>1768</td>\n",
       "      <td>1768</td>\n",
       "      <td>1768</td>\n",
       "      <td>1624</td>\n",
       "      <td>1768</td>\n",
       "      <td>1768</td>\n",
       "      <td>1768</td>\n",
       "      <td>1768</td>\n",
       "      <td>1768</td>\n",
       "      <td>1768</td>\n",
       "      <td>...</td>\n",
       "      <td>1768</td>\n",
       "      <td>1768</td>\n",
       "      <td>1768</td>\n",
       "      <td>1768</td>\n",
       "      <td>1768</td>\n",
       "      <td>1768</td>\n",
       "      <td>1768</td>\n",
       "      <td>1768</td>\n",
       "      <td>1768</td>\n",
       "      <td>1768</td>\n",
       "    </tr>\n",
       "    <tr>\n",
       "      <th>unknown</th>\n",
       "      <th>unknown</th>\n",
       "      <td>561</td>\n",
       "      <td>561</td>\n",
       "      <td>561</td>\n",
       "      <td>533</td>\n",
       "      <td>561</td>\n",
       "      <td>561</td>\n",
       "      <td>561</td>\n",
       "      <td>561</td>\n",
       "      <td>561</td>\n",
       "      <td>561</td>\n",
       "      <td>...</td>\n",
       "      <td>561</td>\n",
       "      <td>561</td>\n",
       "      <td>561</td>\n",
       "      <td>561</td>\n",
       "      <td>561</td>\n",
       "      <td>561</td>\n",
       "      <td>561</td>\n",
       "      <td>561</td>\n",
       "      <td>561</td>\n",
       "      <td>561</td>\n",
       "    </tr>\n",
       "    <tr>\n",
       "      <th rowspan=\"4\" valign=\"top\">user-group</th>\n",
       "      <th>vwc</th>\n",
       "      <td>40507</td>\n",
       "      <td>40507</td>\n",
       "      <td>40507</td>\n",
       "      <td>37630</td>\n",
       "      <td>40507</td>\n",
       "      <td>40507</td>\n",
       "      <td>40507</td>\n",
       "      <td>40507</td>\n",
       "      <td>40507</td>\n",
       "      <td>40507</td>\n",
       "      <td>...</td>\n",
       "      <td>40507</td>\n",
       "      <td>40507</td>\n",
       "      <td>40507</td>\n",
       "      <td>40507</td>\n",
       "      <td>40507</td>\n",
       "      <td>40507</td>\n",
       "      <td>40507</td>\n",
       "      <td>40507</td>\n",
       "      <td>40507</td>\n",
       "      <td>40507</td>\n",
       "    </tr>\n",
       "    <tr>\n",
       "      <th>water board</th>\n",
       "      <td>2933</td>\n",
       "      <td>2933</td>\n",
       "      <td>2933</td>\n",
       "      <td>2715</td>\n",
       "      <td>2933</td>\n",
       "      <td>2933</td>\n",
       "      <td>2933</td>\n",
       "      <td>2933</td>\n",
       "      <td>2932</td>\n",
       "      <td>2933</td>\n",
       "      <td>...</td>\n",
       "      <td>2933</td>\n",
       "      <td>2933</td>\n",
       "      <td>2933</td>\n",
       "      <td>2933</td>\n",
       "      <td>2933</td>\n",
       "      <td>2933</td>\n",
       "      <td>2933</td>\n",
       "      <td>2933</td>\n",
       "      <td>2933</td>\n",
       "      <td>2933</td>\n",
       "    </tr>\n",
       "    <tr>\n",
       "      <th>wua</th>\n",
       "      <td>2535</td>\n",
       "      <td>2535</td>\n",
       "      <td>2535</td>\n",
       "      <td>2308</td>\n",
       "      <td>2535</td>\n",
       "      <td>2535</td>\n",
       "      <td>2535</td>\n",
       "      <td>2535</td>\n",
       "      <td>2535</td>\n",
       "      <td>2535</td>\n",
       "      <td>...</td>\n",
       "      <td>2535</td>\n",
       "      <td>2535</td>\n",
       "      <td>2535</td>\n",
       "      <td>2535</td>\n",
       "      <td>2535</td>\n",
       "      <td>2535</td>\n",
       "      <td>2535</td>\n",
       "      <td>2535</td>\n",
       "      <td>2535</td>\n",
       "      <td>2535</td>\n",
       "    </tr>\n",
       "    <tr>\n",
       "      <th>wug</th>\n",
       "      <td>6515</td>\n",
       "      <td>6515</td>\n",
       "      <td>6515</td>\n",
       "      <td>6483</td>\n",
       "      <td>6515</td>\n",
       "      <td>6515</td>\n",
       "      <td>6515</td>\n",
       "      <td>6515</td>\n",
       "      <td>6514</td>\n",
       "      <td>6515</td>\n",
       "      <td>...</td>\n",
       "      <td>6515</td>\n",
       "      <td>6515</td>\n",
       "      <td>6515</td>\n",
       "      <td>6515</td>\n",
       "      <td>6515</td>\n",
       "      <td>6515</td>\n",
       "      <td>6515</td>\n",
       "      <td>6515</td>\n",
       "      <td>6515</td>\n",
       "      <td>6515</td>\n",
       "    </tr>\n",
       "  </tbody>\n",
       "</table>\n",
       "<p>12 rows × 37 columns</p>\n",
       "</div>"
      ],
      "text/plain": [
       "                                      id  amount_tsh  date_recorded  funder  \\\n",
       "management_group management                                                   \n",
       "commercial       company             685         685            685     663   \n",
       "                 private operator   1971        1971           1971    1957   \n",
       "                 trust                78          78             78      78   \n",
       "                 water authority     904         904            904     836   \n",
       "other            other               844         844            844     837   \n",
       "                 other - school       99          99             99      99   \n",
       "parastatal       parastatal         1768        1768           1768    1624   \n",
       "unknown          unknown             561         561            561     533   \n",
       "user-group       vwc               40507       40507          40507   37630   \n",
       "                 water board        2933        2933           2933    2715   \n",
       "                 wua                2535        2535           2535    2308   \n",
       "                 wug                6515        6515           6515    6483   \n",
       "\n",
       "                                   gps_height  installer  longitude  latitude  \\\n",
       "management_group management                                                     \n",
       "commercial       company                  685        685        685       685   \n",
       "                 private operator        1971       1971       1971      1971   \n",
       "                 trust                     78         78         78        78   \n",
       "                 water authority          904        904        904       904   \n",
       "other            other                    844        844        844       844   \n",
       "                 other - school            99         99         99        99   \n",
       "parastatal       parastatal              1768       1768       1768      1768   \n",
       "unknown          unknown                  561        561        561       561   \n",
       "user-group       vwc                    40507      40507      40507     40507   \n",
       "                 water board             2933       2933       2933      2933   \n",
       "                 wua                     2535       2535       2535      2535   \n",
       "                 wug                     6515       6515       6515      6515   \n",
       "\n",
       "                                   wpt_name  num_private  ...  payment_type  \\\n",
       "management_group management                               ...                 \n",
       "commercial       company                685          685  ...           685   \n",
       "                 private operator      1971         1971  ...          1971   \n",
       "                 trust                   78           78  ...            78   \n",
       "                 water authority        904          904  ...           904   \n",
       "other            other                  844          844  ...           844   \n",
       "                 other - school          99           99  ...            99   \n",
       "parastatal       parastatal            1768         1768  ...          1768   \n",
       "unknown          unknown                561          561  ...           561   \n",
       "user-group       vwc                  40507        40507  ...         40507   \n",
       "                 water board           2932         2933  ...          2933   \n",
       "                 wua                   2535         2535  ...          2535   \n",
       "                 wug                   6514         6515  ...          6515   \n",
       "\n",
       "                                   water_quality  quality_group  quantity  \\\n",
       "management_group management                                                 \n",
       "commercial       company                     685            685       685   \n",
       "                 private operator           1971           1971      1971   \n",
       "                 trust                        78             78        78   \n",
       "                 water authority             904            904       904   \n",
       "other            other                       844            844       844   \n",
       "                 other - school               99             99        99   \n",
       "parastatal       parastatal                 1768           1768      1768   \n",
       "unknown          unknown                     561            561       561   \n",
       "user-group       vwc                       40507          40507     40507   \n",
       "                 water board                2933           2933      2933   \n",
       "                 wua                        2535           2535      2535   \n",
       "                 wug                        6515           6515      6515   \n",
       "\n",
       "                                   quantity_group  source  waterpoint_type  \\\n",
       "management_group management                                                  \n",
       "commercial       company                      685     685              685   \n",
       "                 private operator            1971    1971             1971   \n",
       "                 trust                         78      78               78   \n",
       "                 water authority              904     904              904   \n",
       "other            other                        844     844              844   \n",
       "                 other - school                99      99               99   \n",
       "parastatal       parastatal                  1768    1768             1768   \n",
       "unknown          unknown                      561     561              561   \n",
       "user-group       vwc                        40507   40507            40507   \n",
       "                 water board                 2933    2933             2933   \n",
       "                 wua                         2535    2535             2535   \n",
       "                 wug                         6515    6515             6515   \n",
       "\n",
       "                                   waterpoint_type_group  status_group  decade  \n",
       "management_group management                                                     \n",
       "commercial       company                             685           685     685  \n",
       "                 private operator                   1971          1971    1971  \n",
       "                 trust                                78            78      78  \n",
       "                 water authority                     904           904     904  \n",
       "other            other                               844           844     844  \n",
       "                 other - school                       99            99      99  \n",
       "parastatal       parastatal                         1768          1768    1768  \n",
       "unknown          unknown                             561           561     561  \n",
       "user-group       vwc                               40507         40507   40507  \n",
       "                 water board                        2933          2933    2933  \n",
       "                 wua                                2535          2535    2535  \n",
       "                 wug                                6515          6515    6515  \n",
       "\n",
       "[12 rows x 37 columns]"
      ]
     },
     "execution_count": 32,
     "metadata": {},
     "output_type": "execute_result"
    }
   ],
   "source": [
    "df.groupby(['management_group', 'management']).count()"
   ]
  },
  {
   "cell_type": "code",
   "execution_count": 33,
   "id": "3c63816c",
   "metadata": {},
   "outputs": [],
   "source": [
    "df.drop(columns=['management_group'], inplace = True)"
   ]
  },
  {
   "cell_type": "markdown",
   "id": "34ac1a49",
   "metadata": {},
   "source": [
    "### Inspecting Quantity related columns"
   ]
  },
  {
   "cell_type": "code",
   "execution_count": 34,
   "id": "95a88008",
   "metadata": {},
   "outputs": [
    {
     "data": {
      "text/plain": [
       "quantity\n",
       "enough          33186\n",
       "insufficient    15129\n",
       "dry              6246\n",
       "seasonal         4050\n",
       "unknown           789\n",
       "Name: count, dtype: int64"
      ]
     },
     "execution_count": 34,
     "metadata": {},
     "output_type": "execute_result"
    }
   ],
   "source": [
    "df['quantity'].value_counts()"
   ]
  },
  {
   "cell_type": "code",
   "execution_count": 35,
   "id": "e3e08d39",
   "metadata": {},
   "outputs": [
    {
     "data": {
      "text/plain": [
       "quantity_group\n",
       "enough          33186\n",
       "insufficient    15129\n",
       "dry              6246\n",
       "seasonal         4050\n",
       "unknown           789\n",
       "Name: count, dtype: int64"
      ]
     },
     "execution_count": 35,
     "metadata": {},
     "output_type": "execute_result"
    }
   ],
   "source": [
    "df['quantity_group'].value_counts()"
   ]
  },
  {
   "cell_type": "markdown",
   "id": "2e31aa1c",
   "metadata": {},
   "source": [
    "These two columns have the same information therefore i decided to drop the 'quantity_group' column"
   ]
  },
  {
   "cell_type": "code",
   "execution_count": 36,
   "id": "49bc4311",
   "metadata": {},
   "outputs": [
    {
     "data": {
      "image/png": "[encoded data removed]",
      "text/plain": [
       "<Figure size 640x480 with 1 Axes>"
      ]
     },
     "metadata": {},
     "output_type": "display_data"
    }
   ],
   "source": [
    "ax = sns.countplot(x='quantity', hue=\"status_group\", data=df)"
   ]
  },
  {
   "cell_type": "markdown",
   "id": "90aba2d1",
   "metadata": {},
   "source": [
    "Clearly observable is the significant association between non-functionality and wells with ample water quantity. Dry or unknown water points exhibit a strong correlation with non-functionality. Conversely, wells categorized with sufficient water quantity show a greater likelihood of being functional."
   ]
  },
  {
   "cell_type": "code",
   "execution_count": 37,
   "id": "2f18161d",
   "metadata": {},
   "outputs": [],
   "source": [
    "df.drop(columns=['quantity_group'], inplace = True)"
   ]
  },
  {
   "cell_type": "markdown",
   "id": "27fd8a1b",
   "metadata": {},
   "source": [
    "From this plot, we make the observation that most waterpoints are functional. However there is a significant number of non-functional waterpoints in Tanzania that need to be repaired."
   ]
  },
  {
   "cell_type": "markdown",
   "id": "ecca9b37",
   "metadata": {},
   "source": [
    "### Inspecting water quality related columns"
   ]
  },
  {
   "cell_type": "code",
   "execution_count": 38,
   "id": "bb4c4c79",
   "metadata": {},
   "outputs": [
    {
     "data": {
      "text/plain": [
       "water_quality\n",
       "soft                  50818\n",
       "salty                  4856\n",
       "unknown                1876\n",
       "milky                   804\n",
       "coloured                490\n",
       "salty abandoned         339\n",
       "fluoride                200\n",
       "fluoride abandoned       17\n",
       "Name: count, dtype: int64"
      ]
     },
     "execution_count": 38,
     "metadata": {},
     "output_type": "execute_result"
    }
   ],
   "source": [
    "df['water_quality'].value_counts()"
   ]
  },
  {
   "cell_type": "code",
   "execution_count": 39,
   "id": "f69a34ad",
   "metadata": {},
   "outputs": [
    {
     "data": {
      "text/plain": [
       "quality_group\n",
       "good        50818\n",
       "salty        5195\n",
       "unknown      1876\n",
       "milky         804\n",
       "colored       490\n",
       "fluoride      217\n",
       "Name: count, dtype: int64"
      ]
     },
     "execution_count": 39,
     "metadata": {},
     "output_type": "execute_result"
    }
   ],
   "source": [
    "df['quality_group'].value_counts()"
   ]
  },
  {
   "cell_type": "code",
   "execution_count": 40,
   "id": "541b3788",
   "metadata": {},
   "outputs": [
    {
     "data": {
      "image/png": "[encoded data removed]",
      "text/plain": [
       "<Figure size 2000x1000 with 1 Axes>"
      ]
     },
     "metadata": {},
     "output_type": "display_data"
    }
   ],
   "source": [
    "plt.figure(figsize=(20,10))\n",
    "ax = sns.countplot(x='water_quality', hue=\"status_group\", data=df)"
   ]
  },
  {
   "cell_type": "markdown",
   "id": "a50a2128",
   "metadata": {},
   "source": [
    "From this plot, the most common water quality is soft water in water wells in Tanzania."
   ]
  },
  {
   "cell_type": "code",
   "execution_count": 41,
   "id": "cff9c279",
   "metadata": {},
   "outputs": [],
   "source": [
    "df.drop(columns=['quality_group'], inplace = True)"
   ]
  },
  {
   "cell_type": "markdown",
   "id": "92cd6249",
   "metadata": {},
   "source": [
    "### Inspecting payment related columns"
   ]
  },
  {
   "cell_type": "code",
   "execution_count": 42,
   "id": "ec3248e6",
   "metadata": {},
   "outputs": [
    {
     "data": {
      "text/plain": [
       "payment\n",
       "never pay                25348\n",
       "pay per bucket            8985\n",
       "pay monthly               8300\n",
       "unknown                   8157\n",
       "pay when scheme fails     3914\n",
       "pay annually              3642\n",
       "other                     1054\n",
       "Name: count, dtype: int64"
      ]
     },
     "execution_count": 42,
     "metadata": {},
     "output_type": "execute_result"
    }
   ],
   "source": [
    "df['payment'].value_counts()"
   ]
  },
  {
   "cell_type": "code",
   "execution_count": 43,
   "id": "c0aa8568",
   "metadata": {},
   "outputs": [
    {
     "data": {
      "text/plain": [
       "payment_type\n",
       "never pay     25348\n",
       "per bucket     8985\n",
       "monthly        8300\n",
       "unknown        8157\n",
       "on failure     3914\n",
       "annually       3642\n",
       "other          1054\n",
       "Name: count, dtype: int64"
      ]
     },
     "execution_count": 43,
     "metadata": {},
     "output_type": "execute_result"
    }
   ],
   "source": [
    "df['payment_type'].value_counts()"
   ]
  },
  {
   "cell_type": "code",
   "execution_count": 44,
   "id": "8637c31c",
   "metadata": {},
   "outputs": [
    {
     "data": {
      "image/png": "[encoded data removed]",
      "text/plain": [
       "<Figure size 2000x1000 with 1 Axes>"
      ]
     },
     "metadata": {},
     "output_type": "display_data"
    }
   ],
   "source": [
    "plt.figure(figsize=(20,10))\n",
    "ax = sns.countplot(x='payment', hue=\"status_group\", data=df)"
   ]
  },
  {
   "cell_type": "markdown",
   "id": "831f901b",
   "metadata": {},
   "source": [
    "I made an observation from this plot that there are a lot of non functional water points that are never paid for. Others opt to pay per bucket which indicates the situation in regards to finances in Tanzania. There is also Unknown payments which presents a challenge"
   ]
  },
  {
   "cell_type": "code",
   "execution_count": 45,
   "id": "b68b703e",
   "metadata": {},
   "outputs": [],
   "source": [
    "df.drop(columns=['payment_type'], inplace = True)"
   ]
  },
  {
   "cell_type": "markdown",
   "id": "cf92a346",
   "metadata": {},
   "source": [
    "### Inspecting extraction related columns"
   ]
  },
  {
   "cell_type": "code",
   "execution_count": 46,
   "id": "47d0888f",
   "metadata": {},
   "outputs": [
    {
     "data": {
      "text/plain": [
       "extraction_type\n",
       "gravity                      26780\n",
       "nira/tanira                   8154\n",
       "other                         6430\n",
       "submersible                   4764\n",
       "swn 80                        3670\n",
       "mono                          2865\n",
       "india mark ii                 2400\n",
       "afridev                       1770\n",
       "ksb                           1415\n",
       "other - rope pump              451\n",
       "other - swn 81                 229\n",
       "windmill                       117\n",
       "india mark iii                  98\n",
       "cemo                            90\n",
       "other - play pump               85\n",
       "walimi                          48\n",
       "climax                          32\n",
       "other - mkulima/shinyanga        2\n",
       "Name: count, dtype: int64"
      ]
     },
     "execution_count": 46,
     "metadata": {},
     "output_type": "execute_result"
    }
   ],
   "source": [
    "df['extraction_type'].value_counts()"
   ]
  },
  {
   "cell_type": "code",
   "execution_count": 47,
   "id": "6b139252",
   "metadata": {},
   "outputs": [
    {
     "data": {
      "text/plain": [
       "extraction_type_group\n",
       "gravity            26780\n",
       "nira/tanira         8154\n",
       "other               6430\n",
       "submersible         6179\n",
       "swn 80              3670\n",
       "mono                2865\n",
       "india mark ii       2400\n",
       "afridev             1770\n",
       "rope pump            451\n",
       "other handpump       364\n",
       "other motorpump      122\n",
       "wind-powered         117\n",
       "india mark iii        98\n",
       "Name: count, dtype: int64"
      ]
     },
     "execution_count": 47,
     "metadata": {},
     "output_type": "execute_result"
    }
   ],
   "source": [
    "df['extraction_type_group'].value_counts()"
   ]
  },
  {
   "cell_type": "code",
   "execution_count": 48,
   "id": "7f556826",
   "metadata": {},
   "outputs": [
    {
     "data": {
      "text/plain": [
       "extraction_type_class\n",
       "gravity         26780\n",
       "handpump        16456\n",
       "other            6430\n",
       "submersible      6179\n",
       "motorpump        2987\n",
       "rope pump         451\n",
       "wind-powered      117\n",
       "Name: count, dtype: int64"
      ]
     },
     "execution_count": 48,
     "metadata": {},
     "output_type": "execute_result"
    }
   ],
   "source": [
    "df['extraction_type_class'].value_counts()"
   ]
  },
  {
   "cell_type": "code",
   "execution_count": 49,
   "id": "fc3376dd",
   "metadata": {},
   "outputs": [
    {
     "data": {
      "text/html": [
       "<div>\n",
       "<style scoped>\n",
       "    .dataframe tbody tr th:only-of-type {\n",
       "        vertical-align: middle;\n",
       "    }\n",
       "\n",
       "    .dataframe tbody tr th {\n",
       "        vertical-align: top;\n",
       "    }\n",
       "\n",
       "    .dataframe thead th {\n",
       "        text-align: right;\n",
       "    }\n",
       "</style>\n",
       "<table border=\"1\" class=\"dataframe\">\n",
       "  <thead>\n",
       "    <tr style=\"text-align: right;\">\n",
       "      <th></th>\n",
       "      <th></th>\n",
       "      <th>id</th>\n",
       "      <th>amount_tsh</th>\n",
       "      <th>date_recorded</th>\n",
       "      <th>funder</th>\n",
       "      <th>gps_height</th>\n",
       "      <th>installer</th>\n",
       "      <th>longitude</th>\n",
       "      <th>latitude</th>\n",
       "      <th>wpt_name</th>\n",
       "      <th>num_private</th>\n",
       "      <th>...</th>\n",
       "      <th>extraction_type</th>\n",
       "      <th>management</th>\n",
       "      <th>payment</th>\n",
       "      <th>water_quality</th>\n",
       "      <th>quantity</th>\n",
       "      <th>source</th>\n",
       "      <th>waterpoint_type</th>\n",
       "      <th>waterpoint_type_group</th>\n",
       "      <th>status_group</th>\n",
       "      <th>decade</th>\n",
       "    </tr>\n",
       "    <tr>\n",
       "      <th>extraction_type_class</th>\n",
       "      <th>extraction_type_group</th>\n",
       "      <th></th>\n",
       "      <th></th>\n",
       "      <th></th>\n",
       "      <th></th>\n",
       "      <th></th>\n",
       "      <th></th>\n",
       "      <th></th>\n",
       "      <th></th>\n",
       "      <th></th>\n",
       "      <th></th>\n",
       "      <th></th>\n",
       "      <th></th>\n",
       "      <th></th>\n",
       "      <th></th>\n",
       "      <th></th>\n",
       "      <th></th>\n",
       "      <th></th>\n",
       "      <th></th>\n",
       "      <th></th>\n",
       "      <th></th>\n",
       "      <th></th>\n",
       "    </tr>\n",
       "  </thead>\n",
       "  <tbody>\n",
       "    <tr>\n",
       "      <th>gravity</th>\n",
       "      <th>gravity</th>\n",
       "      <td>26780</td>\n",
       "      <td>26780</td>\n",
       "      <td>26780</td>\n",
       "      <td>24704</td>\n",
       "      <td>26780</td>\n",
       "      <td>26780</td>\n",
       "      <td>26780</td>\n",
       "      <td>26780</td>\n",
       "      <td>26779</td>\n",
       "      <td>26780</td>\n",
       "      <td>...</td>\n",
       "      <td>26780</td>\n",
       "      <td>26780</td>\n",
       "      <td>26780</td>\n",
       "      <td>26780</td>\n",
       "      <td>26780</td>\n",
       "      <td>26780</td>\n",
       "      <td>26780</td>\n",
       "      <td>26780</td>\n",
       "      <td>26780</td>\n",
       "      <td>26780</td>\n",
       "    </tr>\n",
       "    <tr>\n",
       "      <th rowspan=\"6\" valign=\"top\">handpump</th>\n",
       "      <th>afridev</th>\n",
       "      <td>1770</td>\n",
       "      <td>1770</td>\n",
       "      <td>1770</td>\n",
       "      <td>1668</td>\n",
       "      <td>1770</td>\n",
       "      <td>1770</td>\n",
       "      <td>1770</td>\n",
       "      <td>1770</td>\n",
       "      <td>1770</td>\n",
       "      <td>1770</td>\n",
       "      <td>...</td>\n",
       "      <td>1770</td>\n",
       "      <td>1770</td>\n",
       "      <td>1770</td>\n",
       "      <td>1770</td>\n",
       "      <td>1770</td>\n",
       "      <td>1770</td>\n",
       "      <td>1770</td>\n",
       "      <td>1770</td>\n",
       "      <td>1770</td>\n",
       "      <td>1770</td>\n",
       "    </tr>\n",
       "    <tr>\n",
       "      <th>india mark ii</th>\n",
       "      <td>2400</td>\n",
       "      <td>2400</td>\n",
       "      <td>2400</td>\n",
       "      <td>2358</td>\n",
       "      <td>2400</td>\n",
       "      <td>2400</td>\n",
       "      <td>2400</td>\n",
       "      <td>2400</td>\n",
       "      <td>2400</td>\n",
       "      <td>2400</td>\n",
       "      <td>...</td>\n",
       "      <td>2400</td>\n",
       "      <td>2400</td>\n",
       "      <td>2400</td>\n",
       "      <td>2400</td>\n",
       "      <td>2400</td>\n",
       "      <td>2400</td>\n",
       "      <td>2400</td>\n",
       "      <td>2400</td>\n",
       "      <td>2400</td>\n",
       "      <td>2400</td>\n",
       "    </tr>\n",
       "    <tr>\n",
       "      <th>india mark iii</th>\n",
       "      <td>98</td>\n",
       "      <td>98</td>\n",
       "      <td>98</td>\n",
       "      <td>98</td>\n",
       "      <td>98</td>\n",
       "      <td>98</td>\n",
       "      <td>98</td>\n",
       "      <td>98</td>\n",
       "      <td>98</td>\n",
       "      <td>98</td>\n",
       "      <td>...</td>\n",
       "      <td>98</td>\n",
       "      <td>98</td>\n",
       "      <td>98</td>\n",
       "      <td>98</td>\n",
       "      <td>98</td>\n",
       "      <td>98</td>\n",
       "      <td>98</td>\n",
       "      <td>98</td>\n",
       "      <td>98</td>\n",
       "      <td>98</td>\n",
       "    </tr>\n",
       "    <tr>\n",
       "      <th>nira/tanira</th>\n",
       "      <td>8154</td>\n",
       "      <td>8154</td>\n",
       "      <td>8154</td>\n",
       "      <td>7899</td>\n",
       "      <td>8154</td>\n",
       "      <td>8154</td>\n",
       "      <td>8154</td>\n",
       "      <td>8154</td>\n",
       "      <td>8154</td>\n",
       "      <td>8154</td>\n",
       "      <td>...</td>\n",
       "      <td>8154</td>\n",
       "      <td>8154</td>\n",
       "      <td>8154</td>\n",
       "      <td>8154</td>\n",
       "      <td>8154</td>\n",
       "      <td>8154</td>\n",
       "      <td>8154</td>\n",
       "      <td>8154</td>\n",
       "      <td>8154</td>\n",
       "      <td>8154</td>\n",
       "    </tr>\n",
       "    <tr>\n",
       "      <th>other handpump</th>\n",
       "      <td>364</td>\n",
       "      <td>364</td>\n",
       "      <td>364</td>\n",
       "      <td>353</td>\n",
       "      <td>364</td>\n",
       "      <td>364</td>\n",
       "      <td>364</td>\n",
       "      <td>364</td>\n",
       "      <td>364</td>\n",
       "      <td>364</td>\n",
       "      <td>...</td>\n",
       "      <td>364</td>\n",
       "      <td>364</td>\n",
       "      <td>364</td>\n",
       "      <td>364</td>\n",
       "      <td>364</td>\n",
       "      <td>364</td>\n",
       "      <td>364</td>\n",
       "      <td>364</td>\n",
       "      <td>364</td>\n",
       "      <td>364</td>\n",
       "    </tr>\n",
       "    <tr>\n",
       "      <th>swn 80</th>\n",
       "      <td>3670</td>\n",
       "      <td>3670</td>\n",
       "      <td>3670</td>\n",
       "      <td>3595</td>\n",
       "      <td>3670</td>\n",
       "      <td>3670</td>\n",
       "      <td>3670</td>\n",
       "      <td>3670</td>\n",
       "      <td>3670</td>\n",
       "      <td>3670</td>\n",
       "      <td>...</td>\n",
       "      <td>3670</td>\n",
       "      <td>3670</td>\n",
       "      <td>3670</td>\n",
       "      <td>3670</td>\n",
       "      <td>3670</td>\n",
       "      <td>3670</td>\n",
       "      <td>3670</td>\n",
       "      <td>3670</td>\n",
       "      <td>3670</td>\n",
       "      <td>3670</td>\n",
       "    </tr>\n",
       "    <tr>\n",
       "      <th rowspan=\"2\" valign=\"top\">motorpump</th>\n",
       "      <th>mono</th>\n",
       "      <td>2865</td>\n",
       "      <td>2865</td>\n",
       "      <td>2865</td>\n",
       "      <td>2577</td>\n",
       "      <td>2865</td>\n",
       "      <td>2865</td>\n",
       "      <td>2865</td>\n",
       "      <td>2865</td>\n",
       "      <td>2865</td>\n",
       "      <td>2865</td>\n",
       "      <td>...</td>\n",
       "      <td>2865</td>\n",
       "      <td>2865</td>\n",
       "      <td>2865</td>\n",
       "      <td>2865</td>\n",
       "      <td>2865</td>\n",
       "      <td>2865</td>\n",
       "      <td>2865</td>\n",
       "      <td>2865</td>\n",
       "      <td>2865</td>\n",
       "      <td>2865</td>\n",
       "    </tr>\n",
       "    <tr>\n",
       "      <th>other motorpump</th>\n",
       "      <td>122</td>\n",
       "      <td>122</td>\n",
       "      <td>122</td>\n",
       "      <td>122</td>\n",
       "      <td>122</td>\n",
       "      <td>122</td>\n",
       "      <td>122</td>\n",
       "      <td>122</td>\n",
       "      <td>122</td>\n",
       "      <td>122</td>\n",
       "      <td>...</td>\n",
       "      <td>122</td>\n",
       "      <td>122</td>\n",
       "      <td>122</td>\n",
       "      <td>122</td>\n",
       "      <td>122</td>\n",
       "      <td>122</td>\n",
       "      <td>122</td>\n",
       "      <td>122</td>\n",
       "      <td>122</td>\n",
       "      <td>122</td>\n",
       "    </tr>\n",
       "    <tr>\n",
       "      <th>other</th>\n",
       "      <th>other</th>\n",
       "      <td>6430</td>\n",
       "      <td>6430</td>\n",
       "      <td>6430</td>\n",
       "      <td>6010</td>\n",
       "      <td>6430</td>\n",
       "      <td>6430</td>\n",
       "      <td>6430</td>\n",
       "      <td>6430</td>\n",
       "      <td>6429</td>\n",
       "      <td>6430</td>\n",
       "      <td>...</td>\n",
       "      <td>6430</td>\n",
       "      <td>6430</td>\n",
       "      <td>6430</td>\n",
       "      <td>6430</td>\n",
       "      <td>6430</td>\n",
       "      <td>6430</td>\n",
       "      <td>6430</td>\n",
       "      <td>6430</td>\n",
       "      <td>6430</td>\n",
       "      <td>6430</td>\n",
       "    </tr>\n",
       "    <tr>\n",
       "      <th>rope pump</th>\n",
       "      <th>rope pump</th>\n",
       "      <td>451</td>\n",
       "      <td>451</td>\n",
       "      <td>451</td>\n",
       "      <td>448</td>\n",
       "      <td>451</td>\n",
       "      <td>451</td>\n",
       "      <td>451</td>\n",
       "      <td>451</td>\n",
       "      <td>451</td>\n",
       "      <td>451</td>\n",
       "      <td>...</td>\n",
       "      <td>451</td>\n",
       "      <td>451</td>\n",
       "      <td>451</td>\n",
       "      <td>451</td>\n",
       "      <td>451</td>\n",
       "      <td>451</td>\n",
       "      <td>451</td>\n",
       "      <td>451</td>\n",
       "      <td>451</td>\n",
       "      <td>451</td>\n",
       "    </tr>\n",
       "    <tr>\n",
       "      <th>submersible</th>\n",
       "      <th>submersible</th>\n",
       "      <td>6179</td>\n",
       "      <td>6179</td>\n",
       "      <td>6179</td>\n",
       "      <td>5819</td>\n",
       "      <td>6179</td>\n",
       "      <td>6179</td>\n",
       "      <td>6179</td>\n",
       "      <td>6179</td>\n",
       "      <td>6179</td>\n",
       "      <td>6179</td>\n",
       "      <td>...</td>\n",
       "      <td>6179</td>\n",
       "      <td>6179</td>\n",
       "      <td>6179</td>\n",
       "      <td>6179</td>\n",
       "      <td>6179</td>\n",
       "      <td>6179</td>\n",
       "      <td>6179</td>\n",
       "      <td>6179</td>\n",
       "      <td>6179</td>\n",
       "      <td>6179</td>\n",
       "    </tr>\n",
       "    <tr>\n",
       "      <th>wind-powered</th>\n",
       "      <th>wind-powered</th>\n",
       "      <td>117</td>\n",
       "      <td>117</td>\n",
       "      <td>117</td>\n",
       "      <td>112</td>\n",
       "      <td>117</td>\n",
       "      <td>117</td>\n",
       "      <td>117</td>\n",
       "      <td>117</td>\n",
       "      <td>117</td>\n",
       "      <td>117</td>\n",
       "      <td>...</td>\n",
       "      <td>117</td>\n",
       "      <td>117</td>\n",
       "      <td>117</td>\n",
       "      <td>117</td>\n",
       "      <td>117</td>\n",
       "      <td>117</td>\n",
       "      <td>117</td>\n",
       "      <td>117</td>\n",
       "      <td>117</td>\n",
       "      <td>117</td>\n",
       "    </tr>\n",
       "  </tbody>\n",
       "</table>\n",
       "<p>13 rows × 33 columns</p>\n",
       "</div>"
      ],
      "text/plain": [
       "                                                id  amount_tsh  date_recorded  \\\n",
       "extraction_type_class extraction_type_group                                     \n",
       "gravity               gravity                26780       26780          26780   \n",
       "handpump              afridev                 1770        1770           1770   \n",
       "                      india mark ii           2400        2400           2400   \n",
       "                      india mark iii            98          98             98   \n",
       "                      nira/tanira             8154        8154           8154   \n",
       "                      other handpump           364         364            364   \n",
       "                      swn 80                  3670        3670           3670   \n",
       "motorpump             mono                    2865        2865           2865   \n",
       "                      other motorpump          122         122            122   \n",
       "other                 other                   6430        6430           6430   \n",
       "rope pump             rope pump                451         451            451   \n",
       "submersible           submersible             6179        6179           6179   \n",
       "wind-powered          wind-powered             117         117            117   \n",
       "\n",
       "                                             funder  gps_height  installer  \\\n",
       "extraction_type_class extraction_type_group                                  \n",
       "gravity               gravity                 24704       26780      26780   \n",
       "handpump              afridev                  1668        1770       1770   \n",
       "                      india mark ii            2358        2400       2400   \n",
       "                      india mark iii             98          98         98   \n",
       "                      nira/tanira              7899        8154       8154   \n",
       "                      other handpump            353         364        364   \n",
       "                      swn 80                   3595        3670       3670   \n",
       "motorpump             mono                     2577        2865       2865   \n",
       "                      other motorpump           122         122        122   \n",
       "other                 other                    6010        6430       6430   \n",
       "rope pump             rope pump                 448         451        451   \n",
       "submersible           submersible              5819        6179       6179   \n",
       "wind-powered          wind-powered              112         117        117   \n",
       "\n",
       "                                             longitude  latitude  wpt_name  \\\n",
       "extraction_type_class extraction_type_group                                  \n",
       "gravity               gravity                    26780     26780     26779   \n",
       "handpump              afridev                     1770      1770      1770   \n",
       "                      india mark ii               2400      2400      2400   \n",
       "                      india mark iii                98        98        98   \n",
       "                      nira/tanira                 8154      8154      8154   \n",
       "                      other handpump               364       364       364   \n",
       "                      swn 80                      3670      3670      3670   \n",
       "motorpump             mono                        2865      2865      2865   \n",
       "                      other motorpump              122       122       122   \n",
       "other                 other                       6430      6430      6429   \n",
       "rope pump             rope pump                    451       451       451   \n",
       "submersible           submersible                 6179      6179      6179   \n",
       "wind-powered          wind-powered                 117       117       117   \n",
       "\n",
       "                                             num_private  ...  \\\n",
       "extraction_type_class extraction_type_group               ...   \n",
       "gravity               gravity                      26780  ...   \n",
       "handpump              afridev                       1770  ...   \n",
       "                      india mark ii                 2400  ...   \n",
       "                      india mark iii                  98  ...   \n",
       "                      nira/tanira                   8154  ...   \n",
       "                      other handpump                 364  ...   \n",
       "                      swn 80                        3670  ...   \n",
       "motorpump             mono                          2865  ...   \n",
       "                      other motorpump                122  ...   \n",
       "other                 other                         6430  ...   \n",
       "rope pump             rope pump                      451  ...   \n",
       "submersible           submersible                   6179  ...   \n",
       "wind-powered          wind-powered                   117  ...   \n",
       "\n",
       "                                             extraction_type  management  \\\n",
       "extraction_type_class extraction_type_group                                \n",
       "gravity               gravity                          26780       26780   \n",
       "handpump              afridev                           1770        1770   \n",
       "                      india mark ii                     2400        2400   \n",
       "                      india mark iii                      98          98   \n",
       "                      nira/tanira                       8154        8154   \n",
       "                      other handpump                     364         364   \n",
       "                      swn 80                            3670        3670   \n",
       "motorpump             mono                              2865        2865   \n",
       "                      other motorpump                    122         122   \n",
       "other                 other                             6430        6430   \n",
       "rope pump             rope pump                          451         451   \n",
       "submersible           submersible                       6179        6179   \n",
       "wind-powered          wind-powered                       117         117   \n",
       "\n",
       "                                             payment  water_quality  quantity  \\\n",
       "extraction_type_class extraction_type_group                                     \n",
       "gravity               gravity                  26780          26780     26780   \n",
       "handpump              afridev                   1770           1770      1770   \n",
       "                      india mark ii             2400           2400      2400   \n",
       "                      india mark iii              98             98        98   \n",
       "                      nira/tanira               8154           8154      8154   \n",
       "                      other handpump             364            364       364   \n",
       "                      swn 80                    3670           3670      3670   \n",
       "motorpump             mono                      2865           2865      2865   \n",
       "                      other motorpump            122            122       122   \n",
       "other                 other                     6430           6430      6430   \n",
       "rope pump             rope pump                  451            451       451   \n",
       "submersible           submersible               6179           6179      6179   \n",
       "wind-powered          wind-powered               117            117       117   \n",
       "\n",
       "                                             source  waterpoint_type  \\\n",
       "extraction_type_class extraction_type_group                            \n",
       "gravity               gravity                 26780            26780   \n",
       "handpump              afridev                  1770             1770   \n",
       "                      india mark ii            2400             2400   \n",
       "                      india mark iii             98               98   \n",
       "                      nira/tanira              8154             8154   \n",
       "                      other handpump            364              364   \n",
       "                      swn 80                   3670             3670   \n",
       "motorpump             mono                     2865             2865   \n",
       "                      other motorpump           122              122   \n",
       "other                 other                    6430             6430   \n",
       "rope pump             rope pump                 451              451   \n",
       "submersible           submersible              6179             6179   \n",
       "wind-powered          wind-powered              117              117   \n",
       "\n",
       "                                             waterpoint_type_group  \\\n",
       "extraction_type_class extraction_type_group                          \n",
       "gravity               gravity                                26780   \n",
       "handpump              afridev                                 1770   \n",
       "                      india mark ii                           2400   \n",
       "                      india mark iii                            98   \n",
       "                      nira/tanira                             8154   \n",
       "                      other handpump                           364   \n",
       "                      swn 80                                  3670   \n",
       "motorpump             mono                                    2865   \n",
       "                      other motorpump                          122   \n",
       "other                 other                                   6430   \n",
       "rope pump             rope pump                                451   \n",
       "submersible           submersible                             6179   \n",
       "wind-powered          wind-powered                             117   \n",
       "\n",
       "                                             status_group  decade  \n",
       "extraction_type_class extraction_type_group                        \n",
       "gravity               gravity                       26780   26780  \n",
       "handpump              afridev                        1770    1770  \n",
       "                      india mark ii                  2400    2400  \n",
       "                      india mark iii                   98      98  \n",
       "                      nira/tanira                    8154    8154  \n",
       "                      other handpump                  364     364  \n",
       "                      swn 80                         3670    3670  \n",
       "motorpump             mono                           2865    2865  \n",
       "                      other motorpump                 122     122  \n",
       "other                 other                          6430    6430  \n",
       "rope pump             rope pump                       451     451  \n",
       "submersible           submersible                    6179    6179  \n",
       "wind-powered          wind-powered                    117     117  \n",
       "\n",
       "[13 rows x 33 columns]"
      ]
     },
     "execution_count": 49,
     "metadata": {},
     "output_type": "execute_result"
    }
   ],
   "source": [
    "df.groupby(['extraction_type_class','extraction_type_group']).count()"
   ]
  },
  {
   "cell_type": "code",
   "execution_count": 50,
   "id": "d438abda",
   "metadata": {},
   "outputs": [
    {
     "data": {
      "image/png": "[encoded data removed]",
      "text/plain": [
       "<Figure size 2000x1000 with 1 Axes>"
      ]
     },
     "metadata": {},
     "output_type": "display_data"
    }
   ],
   "source": [
    "plt.figure(figsize=(20,10))\n",
    "ax = sns.countplot(x='extraction_type_class', hue=\"status_group\", data=df)"
   ]
  },
  {
   "cell_type": "code",
   "execution_count": 51,
   "id": "56ac7041",
   "metadata": {},
   "outputs": [
    {
     "data": {
      "image/png": "[encoded data removed]",
      "text/plain": [
       "<Figure size 2000x1000 with 1 Axes>"
      ]
     },
     "metadata": {},
     "output_type": "display_data"
    }
   ],
   "source": [
    "plt.figure(figsize=(20,10))\n",
    "ax = sns.countplot(x='extraction_type_group', hue=\"status_group\", data=df)"
   ]
  },
  {
   "cell_type": "markdown",
   "id": "4f2ec0e0",
   "metadata": {},
   "source": [
    "From this plot, we find that the most common method of water extraction for most water wells in Tanzania is via gravity. This finding will help save funds in building water wells with relatively few water wells require the use of pumps to produce water. This is likely to occur in arid areas of Tanzania."
   ]
  },
  {
   "cell_type": "code",
   "execution_count": 52,
   "id": "39b9fce3",
   "metadata": {},
   "outputs": [],
   "source": [
    "df.drop(columns=['extraction_type'], inplace = True)"
   ]
  },
  {
   "cell_type": "markdown",
   "id": "0d55412c",
   "metadata": {},
   "source": [
    "### Inspecting waterpoint related columns"
   ]
  },
  {
   "cell_type": "code",
   "execution_count": 53,
   "id": "3b2404fc",
   "metadata": {},
   "outputs": [
    {
     "data": {
      "text/plain": [
       "waterpoint_type\n",
       "communal standpipe             28522\n",
       "hand pump                      17488\n",
       "other                           6380\n",
       "communal standpipe multiple     6103\n",
       "improved spring                  784\n",
       "cattle trough                    116\n",
       "dam                                7\n",
       "Name: count, dtype: int64"
      ]
     },
     "execution_count": 53,
     "metadata": {},
     "output_type": "execute_result"
    }
   ],
   "source": [
    "df['waterpoint_type'].value_counts()"
   ]
  },
  {
   "cell_type": "code",
   "execution_count": 54,
   "id": "b22cb370",
   "metadata": {},
   "outputs": [
    {
     "data": {
      "text/plain": [
       "waterpoint_type_group\n",
       "communal standpipe    34625\n",
       "hand pump             17488\n",
       "other                  6380\n",
       "improved spring         784\n",
       "cattle trough           116\n",
       "dam                       7\n",
       "Name: count, dtype: int64"
      ]
     },
     "execution_count": 54,
     "metadata": {},
     "output_type": "execute_result"
    }
   ],
   "source": [
    "df['waterpoint_type_group'].value_counts()"
   ]
  },
  {
   "cell_type": "code",
   "execution_count": 55,
   "id": "a008889d",
   "metadata": {},
   "outputs": [
    {
     "data": {
      "image/png": "[encoded data removed]",
      "text/plain": [
       "<Figure size 2000x1000 with 1 Axes>"
      ]
     },
     "metadata": {},
     "output_type": "display_data"
    }
   ],
   "source": [
    "plt.figure(figsize=(20,10))\n",
    "ax = sns.countplot(x='waterpoint_type', hue=\"status_group\", data=df)\n"
   ]
  },
  {
   "cell_type": "markdown",
   "id": "e3847cc5",
   "metadata": {},
   "source": [
    "It can be seen that waterpoint type has correlation with funtionality of water points. Such that, communal standpipe has higher possibility to have functional, although communal standpipe multiple and others have higher possibility for non-functionality."
   ]
  },
  {
   "cell_type": "markdown",
   "id": "b8a700a2",
   "metadata": {},
   "source": [
    "### Inspecting scheme_name/id/region/region_code/wpt_name"
   ]
  },
  {
   "cell_type": "code",
   "execution_count": 56,
   "id": "b49f210e",
   "metadata": {},
   "outputs": [
    {
     "data": {
      "text/plain": [
       "wpt_name\n",
       "none                       3563\n",
       "Shuleni                    1748\n",
       "Zahanati                    830\n",
       "Msikitini                   535\n",
       "Kanisani                    323\n",
       "                           ... \n",
       "Kwa Medadi                    1\n",
       "Kwa Kubembeni                 1\n",
       "Shule Ya Msingi Milanzi       1\n",
       "Funua                         1\n",
       "Kwa Mzee Lugawa               1\n",
       "Name: count, Length: 37399, dtype: int64"
      ]
     },
     "execution_count": 56,
     "metadata": {},
     "output_type": "execute_result"
    }
   ],
   "source": [
    "df['wpt_name'].value_counts()"
   ]
  },
  {
   "cell_type": "code",
   "execution_count": 57,
   "id": "1c96b6c9",
   "metadata": {},
   "outputs": [
    {
     "data": {
      "text/plain": [
       "scheme_name\n",
       "K                       682\n",
       "Borehole                546\n",
       "Chalinze wate           405\n",
       "M                       400\n",
       "DANIDA                  379\n",
       "                       ... \n",
       "Mradi wa maji Vijini      1\n",
       "Villagers                 1\n",
       "Magundi water supply      1\n",
       "Saadani Chumv             1\n",
       "Mtawanya                  1\n",
       "Name: count, Length: 2695, dtype: int64"
      ]
     },
     "execution_count": 57,
     "metadata": {},
     "output_type": "execute_result"
    }
   ],
   "source": [
    "df['scheme_name'].value_counts()"
   ]
  },
  {
   "cell_type": "code",
   "execution_count": 58,
   "id": "9171d31a",
   "metadata": {},
   "outputs": [
    {
     "data": {
      "text/plain": [
       "0"
      ]
     },
     "execution_count": 58,
     "metadata": {},
     "output_type": "execute_result"
    }
   ],
   "source": [
    "df.duplicated(subset='id', keep='first').sum()"
   ]
  },
  {
   "cell_type": "code",
   "execution_count": 59,
   "id": "7c79952d",
   "metadata": {},
   "outputs": [],
   "source": [
    "df.drop(columns=['wpt_name','scheme_name','id','region_code'],inplace=True )\n"
   ]
  },
  {
   "cell_type": "code",
   "execution_count": 60,
   "id": "6aabc0bb",
   "metadata": {},
   "outputs": [
    {
     "data": {
      "text/plain": [
       "region\n",
       "Iringa           5294\n",
       "Shinyanga        4982\n",
       "Mbeya            4639\n",
       "Kilimanjaro      4379\n",
       "Morogoro         4006\n",
       "Arusha           3350\n",
       "Kagera           3316\n",
       "Mwanza           3102\n",
       "Kigoma           2816\n",
       "Ruvuma           2640\n",
       "Pwani            2635\n",
       "Tanga            2547\n",
       "Dodoma           2201\n",
       "Singida          2093\n",
       "Mara             1969\n",
       "Tabora           1959\n",
       "Rukwa            1808\n",
       "Mtwara           1730\n",
       "Manyara          1583\n",
       "Lindi            1546\n",
       "Dar es Salaam     805\n",
       "Name: count, dtype: int64"
      ]
     },
     "execution_count": 60,
     "metadata": {},
     "output_type": "execute_result"
    }
   ],
   "source": [
    "df['region'].value_counts()"
   ]
  },
  {
   "cell_type": "code",
   "execution_count": 61,
   "id": "1f8e6706",
   "metadata": {},
   "outputs": [
    {
     "data": {
      "image/png": "[encoded data removed]",
      "text/plain": [
       "<Figure size 2600x1200 with 1 Axes>"
      ]
     },
     "metadata": {},
     "output_type": "display_data"
    }
   ],
   "source": [
    "plt.figure(figsize=(26,12))\n",
    "ax = sns.countplot(x='region', hue=\"status_group\", data=df)"
   ]
  },
  {
   "cell_type": "markdown",
   "id": "f4d4fd1c",
   "metadata": {},
   "source": [
    "We can observe that the number of water wells varies significantly between regions in Tanzania. The highest number of water wells are in the regions of Iringa, Morogoro, and Shinyanga, while the lowest number of water wells are in the regions of Kigoma, Lindi, and Mtwara. This suggests that access to clean water is not uniform across Tanzania. "
   ]
  },
  {
   "cell_type": "markdown",
   "id": "02ceaec8",
   "metadata": {},
   "source": [
    "### Inspecting public meeting column"
   ]
  },
  {
   "cell_type": "code",
   "execution_count": 62,
   "id": "b9144a8c",
   "metadata": {},
   "outputs": [],
   "source": [
    "df['public_meeting'].fillna(value=True,inplace=True)"
   ]
  },
  {
   "cell_type": "markdown",
   "id": "0fb9411e",
   "metadata": {},
   "source": [
    "### Inspecting permit column"
   ]
  },
  {
   "cell_type": "code",
   "execution_count": 63,
   "id": "a9ad7586",
   "metadata": {},
   "outputs": [],
   "source": [
    "df['permit'].fillna(value=True, inplace=True)"
   ]
  },
  {
   "cell_type": "markdown",
   "id": "cf4189d7",
   "metadata": {},
   "source": [
    "### Inspecting population column"
   ]
  },
  {
   "cell_type": "code",
   "execution_count": 64,
   "id": "82bc7ed8",
   "metadata": {},
   "outputs": [
    {
     "data": {
      "text/plain": [
       "population\n",
       "0       21381\n",
       "1        7025\n",
       "200      1940\n",
       "150      1892\n",
       "250      1681\n",
       "        ...  \n",
       "6330        1\n",
       "5030        1\n",
       "656         1\n",
       "948         1\n",
       "788         1\n",
       "Name: count, Length: 1049, dtype: int64"
      ]
     },
     "execution_count": 64,
     "metadata": {},
     "output_type": "execute_result"
    }
   ],
   "source": [
    "df['population'].value_counts()\n"
   ]
  },
  {
   "cell_type": "code",
   "execution_count": 65,
   "id": "9adeae7d",
   "metadata": {},
   "outputs": [
    {
     "data": {
      "text/html": [
       "<div>\n",
       "<style scoped>\n",
       "    .dataframe tbody tr th:only-of-type {\n",
       "        vertical-align: middle;\n",
       "    }\n",
       "\n",
       "    .dataframe tbody tr th {\n",
       "        vertical-align: top;\n",
       "    }\n",
       "\n",
       "    .dataframe thead th {\n",
       "        text-align: right;\n",
       "    }\n",
       "</style>\n",
       "<table border=\"1\" class=\"dataframe\">\n",
       "  <thead>\n",
       "    <tr style=\"text-align: right;\">\n",
       "      <th></th>\n",
       "      <th>amount_tsh</th>\n",
       "      <th>date_recorded</th>\n",
       "      <th>funder</th>\n",
       "      <th>gps_height</th>\n",
       "      <th>installer</th>\n",
       "      <th>longitude</th>\n",
       "      <th>latitude</th>\n",
       "      <th>num_private</th>\n",
       "      <th>basin</th>\n",
       "      <th>subvillage</th>\n",
       "      <th>...</th>\n",
       "      <th>extraction_type_group</th>\n",
       "      <th>extraction_type_class</th>\n",
       "      <th>management</th>\n",
       "      <th>payment</th>\n",
       "      <th>water_quality</th>\n",
       "      <th>quantity</th>\n",
       "      <th>source</th>\n",
       "      <th>waterpoint_type</th>\n",
       "      <th>waterpoint_type_group</th>\n",
       "      <th>decade</th>\n",
       "    </tr>\n",
       "    <tr>\n",
       "      <th>status_group</th>\n",
       "      <th></th>\n",
       "      <th></th>\n",
       "      <th></th>\n",
       "      <th></th>\n",
       "      <th></th>\n",
       "      <th></th>\n",
       "      <th></th>\n",
       "      <th></th>\n",
       "      <th></th>\n",
       "      <th></th>\n",
       "      <th></th>\n",
       "      <th></th>\n",
       "      <th></th>\n",
       "      <th></th>\n",
       "      <th></th>\n",
       "      <th></th>\n",
       "      <th></th>\n",
       "      <th></th>\n",
       "      <th></th>\n",
       "      <th></th>\n",
       "      <th></th>\n",
       "    </tr>\n",
       "  </thead>\n",
       "  <tbody>\n",
       "    <tr>\n",
       "      <th>functional</th>\n",
       "      <td>11274</td>\n",
       "      <td>11274</td>\n",
       "      <td>10047</td>\n",
       "      <td>11274</td>\n",
       "      <td>11274</td>\n",
       "      <td>11274</td>\n",
       "      <td>11274</td>\n",
       "      <td>11274</td>\n",
       "      <td>11274</td>\n",
       "      <td>11071</td>\n",
       "      <td>...</td>\n",
       "      <td>11274</td>\n",
       "      <td>11274</td>\n",
       "      <td>11274</td>\n",
       "      <td>11274</td>\n",
       "      <td>11274</td>\n",
       "      <td>11274</td>\n",
       "      <td>11274</td>\n",
       "      <td>11274</td>\n",
       "      <td>11274</td>\n",
       "      <td>11274</td>\n",
       "    </tr>\n",
       "    <tr>\n",
       "      <th>functional needs repair</th>\n",
       "      <td>1775</td>\n",
       "      <td>1775</td>\n",
       "      <td>1464</td>\n",
       "      <td>1775</td>\n",
       "      <td>1775</td>\n",
       "      <td>1775</td>\n",
       "      <td>1775</td>\n",
       "      <td>1775</td>\n",
       "      <td>1775</td>\n",
       "      <td>1775</td>\n",
       "      <td>...</td>\n",
       "      <td>1775</td>\n",
       "      <td>1775</td>\n",
       "      <td>1775</td>\n",
       "      <td>1775</td>\n",
       "      <td>1775</td>\n",
       "      <td>1775</td>\n",
       "      <td>1775</td>\n",
       "      <td>1775</td>\n",
       "      <td>1775</td>\n",
       "      <td>1775</td>\n",
       "    </tr>\n",
       "    <tr>\n",
       "      <th>non functional</th>\n",
       "      <td>8332</td>\n",
       "      <td>8332</td>\n",
       "      <td>7752</td>\n",
       "      <td>8332</td>\n",
       "      <td>8332</td>\n",
       "      <td>8332</td>\n",
       "      <td>8332</td>\n",
       "      <td>8332</td>\n",
       "      <td>8332</td>\n",
       "      <td>8174</td>\n",
       "      <td>...</td>\n",
       "      <td>8332</td>\n",
       "      <td>8332</td>\n",
       "      <td>8332</td>\n",
       "      <td>8332</td>\n",
       "      <td>8332</td>\n",
       "      <td>8332</td>\n",
       "      <td>8332</td>\n",
       "      <td>8332</td>\n",
       "      <td>8332</td>\n",
       "      <td>8332</td>\n",
       "    </tr>\n",
       "  </tbody>\n",
       "</table>\n",
       "<p>3 rows × 29 columns</p>\n",
       "</div>"
      ],
      "text/plain": [
       "                         amount_tsh  date_recorded  funder  gps_height  \\\n",
       "status_group                                                             \n",
       "functional                    11274          11274   10047       11274   \n",
       "functional needs repair        1775           1775    1464        1775   \n",
       "non functional                 8332           8332    7752        8332   \n",
       "\n",
       "                         installer  longitude  latitude  num_private  basin  \\\n",
       "status_group                                                                  \n",
       "functional                   11274      11274     11274        11274  11274   \n",
       "functional needs repair       1775       1775      1775         1775   1775   \n",
       "non functional                8332       8332      8332         8332   8332   \n",
       "\n",
       "                         subvillage  ...  extraction_type_group  \\\n",
       "status_group                         ...                          \n",
       "functional                    11071  ...                  11274   \n",
       "functional needs repair        1775  ...                   1775   \n",
       "non functional                 8174  ...                   8332   \n",
       "\n",
       "                         extraction_type_class  management  payment  \\\n",
       "status_group                                                          \n",
       "functional                               11274       11274    11274   \n",
       "functional needs repair                   1775        1775     1775   \n",
       "non functional                            8332        8332     8332   \n",
       "\n",
       "                         water_quality  quantity  source  waterpoint_type  \\\n",
       "status_group                                                                \n",
       "functional                       11274     11274   11274            11274   \n",
       "functional needs repair           1775      1775    1775             1775   \n",
       "non functional                    8332      8332    8332             8332   \n",
       "\n",
       "                         waterpoint_type_group  decade  \n",
       "status_group                                            \n",
       "functional                               11274   11274  \n",
       "functional needs repair                   1775    1775  \n",
       "non functional                            8332    8332  \n",
       "\n",
       "[3 rows x 29 columns]"
      ]
     },
     "execution_count": 65,
     "metadata": {},
     "output_type": "execute_result"
    }
   ],
   "source": [
    "\n",
    "df.loc[df['population']==0].groupby('status_group').count()"
   ]
  },
  {
   "cell_type": "code",
   "execution_count": 66,
   "id": "b3fbdfa0",
   "metadata": {},
   "outputs": [
    {
     "data": {
      "text/html": [
       "<div>\n",
       "<style scoped>\n",
       "    .dataframe tbody tr th:only-of-type {\n",
       "        vertical-align: middle;\n",
       "    }\n",
       "\n",
       "    .dataframe tbody tr th {\n",
       "        vertical-align: top;\n",
       "    }\n",
       "\n",
       "    .dataframe thead th {\n",
       "        text-align: right;\n",
       "    }\n",
       "</style>\n",
       "<table border=\"1\" class=\"dataframe\">\n",
       "  <thead>\n",
       "    <tr style=\"text-align: right;\">\n",
       "      <th></th>\n",
       "      <th>amount_tsh</th>\n",
       "      <th>gps_height</th>\n",
       "      <th>longitude</th>\n",
       "      <th>latitude</th>\n",
       "      <th>num_private</th>\n",
       "      <th>district_code</th>\n",
       "      <th>population</th>\n",
       "      <th>construction_year</th>\n",
       "    </tr>\n",
       "  </thead>\n",
       "  <tbody>\n",
       "    <tr>\n",
       "      <th>count</th>\n",
       "      <td>38019.000000</td>\n",
       "      <td>38019.000000</td>\n",
       "      <td>38019.000000</td>\n",
       "      <td>38019.000000</td>\n",
       "      <td>38019.000000</td>\n",
       "      <td>38019.000000</td>\n",
       "      <td>38019.000000</td>\n",
       "      <td>38019.000000</td>\n",
       "    </tr>\n",
       "    <tr>\n",
       "      <th>mean</th>\n",
       "      <td>447.787681</td>\n",
       "      <td>969.889634</td>\n",
       "      <td>36.074387</td>\n",
       "      <td>-6.139781</td>\n",
       "      <td>0.740788</td>\n",
       "      <td>6.299456</td>\n",
       "      <td>281.087167</td>\n",
       "      <td>1996.908283</td>\n",
       "    </tr>\n",
       "    <tr>\n",
       "      <th>std</th>\n",
       "      <td>3706.770967</td>\n",
       "      <td>612.544787</td>\n",
       "      <td>2.586779</td>\n",
       "      <td>2.737733</td>\n",
       "      <td>15.288297</td>\n",
       "      <td>11.303334</td>\n",
       "      <td>564.687660</td>\n",
       "      <td>12.425377</td>\n",
       "    </tr>\n",
       "    <tr>\n",
       "      <th>min</th>\n",
       "      <td>0.000000</td>\n",
       "      <td>-90.000000</td>\n",
       "      <td>29.607122</td>\n",
       "      <td>-11.649440</td>\n",
       "      <td>0.000000</td>\n",
       "      <td>1.000000</td>\n",
       "      <td>1.000000</td>\n",
       "      <td>1960.000000</td>\n",
       "    </tr>\n",
       "    <tr>\n",
       "      <th>25%</th>\n",
       "      <td>0.000000</td>\n",
       "      <td>347.000000</td>\n",
       "      <td>34.715340</td>\n",
       "      <td>-8.388839</td>\n",
       "      <td>0.000000</td>\n",
       "      <td>2.000000</td>\n",
       "      <td>40.000000</td>\n",
       "      <td>1988.000000</td>\n",
       "    </tr>\n",
       "    <tr>\n",
       "      <th>50%</th>\n",
       "      <td>0.000000</td>\n",
       "      <td>1135.000000</td>\n",
       "      <td>36.706815</td>\n",
       "      <td>-5.750877</td>\n",
       "      <td>0.000000</td>\n",
       "      <td>3.000000</td>\n",
       "      <td>150.000000</td>\n",
       "      <td>2000.000000</td>\n",
       "    </tr>\n",
       "    <tr>\n",
       "      <th>75%</th>\n",
       "      <td>100.000000</td>\n",
       "      <td>1465.000000</td>\n",
       "      <td>37.940149</td>\n",
       "      <td>-3.597016</td>\n",
       "      <td>0.000000</td>\n",
       "      <td>5.000000</td>\n",
       "      <td>324.000000</td>\n",
       "      <td>2008.000000</td>\n",
       "    </tr>\n",
       "    <tr>\n",
       "      <th>max</th>\n",
       "      <td>350000.000000</td>\n",
       "      <td>2770.000000</td>\n",
       "      <td>40.345193</td>\n",
       "      <td>-1.042375</td>\n",
       "      <td>1776.000000</td>\n",
       "      <td>67.000000</td>\n",
       "      <td>30500.000000</td>\n",
       "      <td>2013.000000</td>\n",
       "    </tr>\n",
       "  </tbody>\n",
       "</table>\n",
       "</div>"
      ],
      "text/plain": [
       "          amount_tsh    gps_height     longitude      latitude   num_private  \\\n",
       "count   38019.000000  38019.000000  38019.000000  38019.000000  38019.000000   \n",
       "mean      447.787681    969.889634     36.074387     -6.139781      0.740788   \n",
       "std      3706.770967    612.544787      2.586779      2.737733     15.288297   \n",
       "min         0.000000    -90.000000     29.607122    -11.649440      0.000000   \n",
       "25%         0.000000    347.000000     34.715340     -8.388839      0.000000   \n",
       "50%         0.000000   1135.000000     36.706815     -5.750877      0.000000   \n",
       "75%       100.000000   1465.000000     37.940149     -3.597016      0.000000   \n",
       "max    350000.000000   2770.000000     40.345193     -1.042375   1776.000000   \n",
       "\n",
       "       district_code    population  construction_year  \n",
       "count   38019.000000  38019.000000       38019.000000  \n",
       "mean        6.299456    281.087167        1996.908283  \n",
       "std        11.303334    564.687660          12.425377  \n",
       "min         1.000000      1.000000        1960.000000  \n",
       "25%         2.000000     40.000000        1988.000000  \n",
       "50%         3.000000    150.000000        2000.000000  \n",
       "75%         5.000000    324.000000        2008.000000  \n",
       "max        67.000000  30500.000000        2013.000000  "
      ]
     },
     "execution_count": 66,
     "metadata": {},
     "output_type": "execute_result"
    }
   ],
   "source": [
    "df.loc[df['population']!=0].describe()"
   ]
  },
  {
   "cell_type": "code",
   "execution_count": 67,
   "id": "7fcf6e60",
   "metadata": {},
   "outputs": [],
   "source": [
    "df['population'].replace(to_replace = 0 , value =281, inplace=True)"
   ]
  },
  {
   "cell_type": "code",
   "execution_count": 68,
   "id": "a0847300",
   "metadata": {},
   "outputs": [
    {
     "data": {
      "text/html": [
       "<div>\n",
       "<style scoped>\n",
       "    .dataframe tbody tr th:only-of-type {\n",
       "        vertical-align: middle;\n",
       "    }\n",
       "\n",
       "    .dataframe tbody tr th {\n",
       "        vertical-align: top;\n",
       "    }\n",
       "\n",
       "    .dataframe thead th {\n",
       "        text-align: right;\n",
       "    }\n",
       "</style>\n",
       "<table border=\"1\" class=\"dataframe\">\n",
       "  <thead>\n",
       "    <tr style=\"text-align: right;\">\n",
       "      <th></th>\n",
       "      <th>amount_tsh</th>\n",
       "      <th>date_recorded</th>\n",
       "      <th>funder</th>\n",
       "      <th>gps_height</th>\n",
       "      <th>installer</th>\n",
       "      <th>longitude</th>\n",
       "      <th>latitude</th>\n",
       "      <th>num_private</th>\n",
       "      <th>basin</th>\n",
       "      <th>subvillage</th>\n",
       "      <th>...</th>\n",
       "      <th>extraction_type_group</th>\n",
       "      <th>extraction_type_class</th>\n",
       "      <th>management</th>\n",
       "      <th>payment</th>\n",
       "      <th>water_quality</th>\n",
       "      <th>quantity</th>\n",
       "      <th>source</th>\n",
       "      <th>waterpoint_type</th>\n",
       "      <th>waterpoint_type_group</th>\n",
       "      <th>decade</th>\n",
       "    </tr>\n",
       "    <tr>\n",
       "      <th>status_group</th>\n",
       "      <th></th>\n",
       "      <th></th>\n",
       "      <th></th>\n",
       "      <th></th>\n",
       "      <th></th>\n",
       "      <th></th>\n",
       "      <th></th>\n",
       "      <th></th>\n",
       "      <th></th>\n",
       "      <th></th>\n",
       "      <th></th>\n",
       "      <th></th>\n",
       "      <th></th>\n",
       "      <th></th>\n",
       "      <th></th>\n",
       "      <th></th>\n",
       "      <th></th>\n",
       "      <th></th>\n",
       "      <th></th>\n",
       "      <th></th>\n",
       "      <th></th>\n",
       "    </tr>\n",
       "  </thead>\n",
       "  <tbody>\n",
       "    <tr>\n",
       "      <th>functional</th>\n",
       "      <td>39</td>\n",
       "      <td>39</td>\n",
       "      <td>38</td>\n",
       "      <td>39</td>\n",
       "      <td>39</td>\n",
       "      <td>39</td>\n",
       "      <td>39</td>\n",
       "      <td>39</td>\n",
       "      <td>39</td>\n",
       "      <td>39</td>\n",
       "      <td>...</td>\n",
       "      <td>39</td>\n",
       "      <td>39</td>\n",
       "      <td>39</td>\n",
       "      <td>39</td>\n",
       "      <td>39</td>\n",
       "      <td>39</td>\n",
       "      <td>39</td>\n",
       "      <td>39</td>\n",
       "      <td>39</td>\n",
       "      <td>39</td>\n",
       "    </tr>\n",
       "    <tr>\n",
       "      <th>functional needs repair</th>\n",
       "      <td>4</td>\n",
       "      <td>4</td>\n",
       "      <td>3</td>\n",
       "      <td>4</td>\n",
       "      <td>4</td>\n",
       "      <td>4</td>\n",
       "      <td>4</td>\n",
       "      <td>4</td>\n",
       "      <td>4</td>\n",
       "      <td>4</td>\n",
       "      <td>...</td>\n",
       "      <td>4</td>\n",
       "      <td>4</td>\n",
       "      <td>4</td>\n",
       "      <td>4</td>\n",
       "      <td>4</td>\n",
       "      <td>4</td>\n",
       "      <td>4</td>\n",
       "      <td>4</td>\n",
       "      <td>4</td>\n",
       "      <td>4</td>\n",
       "    </tr>\n",
       "    <tr>\n",
       "      <th>non functional</th>\n",
       "      <td>7</td>\n",
       "      <td>7</td>\n",
       "      <td>7</td>\n",
       "      <td>7</td>\n",
       "      <td>7</td>\n",
       "      <td>7</td>\n",
       "      <td>7</td>\n",
       "      <td>7</td>\n",
       "      <td>7</td>\n",
       "      <td>7</td>\n",
       "      <td>...</td>\n",
       "      <td>7</td>\n",
       "      <td>7</td>\n",
       "      <td>7</td>\n",
       "      <td>7</td>\n",
       "      <td>7</td>\n",
       "      <td>7</td>\n",
       "      <td>7</td>\n",
       "      <td>7</td>\n",
       "      <td>7</td>\n",
       "      <td>7</td>\n",
       "    </tr>\n",
       "  </tbody>\n",
       "</table>\n",
       "<p>3 rows × 29 columns</p>\n",
       "</div>"
      ],
      "text/plain": [
       "                         amount_tsh  date_recorded  funder  gps_height  \\\n",
       "status_group                                                             \n",
       "functional                       39             39      38          39   \n",
       "functional needs repair           4              4       3           4   \n",
       "non functional                    7              7       7           7   \n",
       "\n",
       "                         installer  longitude  latitude  num_private  basin  \\\n",
       "status_group                                                                  \n",
       "functional                      39         39        39           39     39   \n",
       "functional needs repair          4          4         4            4      4   \n",
       "non functional                   7          7         7            7      7   \n",
       "\n",
       "                         subvillage  ...  extraction_type_group  \\\n",
       "status_group                         ...                          \n",
       "functional                       39  ...                     39   \n",
       "functional needs repair           4  ...                      4   \n",
       "non functional                    7  ...                      7   \n",
       "\n",
       "                         extraction_type_class  management  payment  \\\n",
       "status_group                                                          \n",
       "functional                                  39          39       39   \n",
       "functional needs repair                      4           4        4   \n",
       "non functional                               7           7        7   \n",
       "\n",
       "                         water_quality  quantity  source  waterpoint_type  \\\n",
       "status_group                                                                \n",
       "functional                          39        39      39               39   \n",
       "functional needs repair              4         4       4                4   \n",
       "non functional                       7         7       7                7   \n",
       "\n",
       "                         waterpoint_type_group  decade  \n",
       "status_group                                            \n",
       "functional                                  39      39  \n",
       "functional needs repair                      4       4  \n",
       "non functional                               7       7  \n",
       "\n",
       "[3 rows x 29 columns]"
      ]
     },
     "execution_count": 68,
     "metadata": {},
     "output_type": "execute_result"
    }
   ],
   "source": [
    "df.sort_values(by='population', ascending=False).head(50).groupby('status_group').count()\n"
   ]
  },
  {
   "cell_type": "markdown",
   "id": "d10807f8",
   "metadata": {},
   "source": [
    "### Other columns to drop"
   ]
  },
  {
   "cell_type": "code",
   "execution_count": 69,
   "id": "da240e54",
   "metadata": {},
   "outputs": [],
   "source": [
    "df.drop(columns=['construction_year','subvillage','num_private','date_recorded','amount_tsh'],inplace=True )"
   ]
  },
  {
   "cell_type": "markdown",
   "id": "c2e65b08",
   "metadata": {},
   "source": [
    "### Formatting Target values"
   ]
  },
  {
   "cell_type": "code",
   "execution_count": 70,
   "id": "cf3e1262",
   "metadata": {},
   "outputs": [],
   "source": [
    "target_status_group = {'functional':0, \n",
    "                   'non functional': 2, \n",
    "                   'functional needs repair': 1} \n",
    "df['status_group'] = df['status_group'].replace(target_status_group)"
   ]
  },
  {
   "cell_type": "code",
   "execution_count": 71,
   "id": "8184107a",
   "metadata": {},
   "outputs": [],
   "source": [
    "# we create new csv file to keep our work and call new cleaned data.\n",
    "df.to_csv('clean_data.csv')"
   ]
  },
  {
   "cell_type": "markdown",
   "id": "3cf56fa6",
   "metadata": {},
   "source": [
    "# Modelling"
   ]
  },
  {
   "cell_type": "markdown",
   "id": "a32e6486",
   "metadata": {},
   "source": [
    "Now we begin our modelling, this will provide insights into the tanzania water wells project. We will implement different modeling techniques to gain valuable insights."
   ]
  },
  {
   "cell_type": "code",
   "execution_count": 72,
   "id": "e821c54e",
   "metadata": {},
   "outputs": [],
   "source": [
    "#Load cleaned dataset\n",
    "df = pd.read_csv('clean_data.csv') "
   ]
  },
  {
   "cell_type": "code",
   "execution_count": 73,
   "id": "d052c157",
   "metadata": {},
   "outputs": [],
   "source": [
    "# Create a separate dataframe\n",
    "df1 = df.copy()"
   ]
  },
  {
   "cell_type": "markdown",
   "id": "6db5efe5",
   "metadata": {},
   "source": [
    "### Dividing the columns into numerical and categorical columns"
   ]
  },
  {
   "cell_type": "code",
   "execution_count": 74,
   "id": "27daa590",
   "metadata": {},
   "outputs": [
    {
     "name": "stdout",
     "output_type": "stream",
     "text": [
      "<class 'pandas.core.frame.DataFrame'>\n",
      "RangeIndex: 59400 entries, 0 to 59399\n",
      "Data columns (total 26 columns):\n",
      " #   Column                 Non-Null Count  Dtype  \n",
      "---  ------                 --------------  -----  \n",
      " 0   Unnamed: 0             59400 non-null  int64  \n",
      " 1   funder                 55763 non-null  object \n",
      " 2   gps_height             59400 non-null  int64  \n",
      " 3   installer              59400 non-null  object \n",
      " 4   longitude              59400 non-null  float64\n",
      " 5   latitude               59400 non-null  float64\n",
      " 6   basin                  59400 non-null  object \n",
      " 7   region                 59400 non-null  object \n",
      " 8   district_code          59400 non-null  int64  \n",
      " 9   lga                    59400 non-null  object \n",
      " 10  ward                   59400 non-null  object \n",
      " 11  population             59400 non-null  int64  \n",
      " 12  public_meeting         59400 non-null  bool   \n",
      " 13  scheme_management      55522 non-null  object \n",
      " 14  permit                 59400 non-null  bool   \n",
      " 15  extraction_type_group  59400 non-null  object \n",
      " 16  extraction_type_class  59400 non-null  object \n",
      " 17  management             59400 non-null  object \n",
      " 18  payment                59400 non-null  object \n",
      " 19  water_quality          59400 non-null  object \n",
      " 20  quantity               59400 non-null  object \n",
      " 21  source                 59400 non-null  object \n",
      " 22  waterpoint_type        59400 non-null  object \n",
      " 23  waterpoint_type_group  59400 non-null  object \n",
      " 24  status_group           59400 non-null  int64  \n",
      " 25  decade                 59400 non-null  object \n",
      "dtypes: bool(2), float64(2), int64(5), object(17)\n",
      "memory usage: 11.0+ MB\n"
     ]
    }
   ],
   "source": [
    "df1.info()"
   ]
  },
  {
   "cell_type": "code",
   "execution_count": 75,
   "id": "b8f2726c",
   "metadata": {},
   "outputs": [],
   "source": [
    "df1.drop(columns=['lga','ward'],inplace=True ) "
   ]
  },
  {
   "cell_type": "code",
   "execution_count": 76,
   "id": "421b1e62",
   "metadata": {},
   "outputs": [],
   "source": [
    "df1['permit'] = df1['permit'].astype(bool).astype(int)"
   ]
  },
  {
   "cell_type": "code",
   "execution_count": 77,
   "id": "462efb81",
   "metadata": {},
   "outputs": [],
   "source": [
    "df1['public_meeting'] = df1['public_meeting'].astype(bool).astype(int)"
   ]
  },
  {
   "cell_type": "code",
   "execution_count": 78,
   "id": "5d5cff22",
   "metadata": {},
   "outputs": [],
   "source": [
    "#Dividing into Numerical columns\n",
    "num_col = ['population','public_meeting','permit','gps_height','longitude','latitude','district_code']\n",
    "#Dividing into Categorical Columns\n",
    "cat_col = ['extraction_type_group','basin','region','management','payment','water_quality','quantity',\n",
    "               'source','waterpoint_type','decade']"
   ]
  },
  {
   "cell_type": "code",
   "execution_count": 79,
   "id": "e9deed21",
   "metadata": {},
   "outputs": [
    {
     "data": {
      "text/plain": [
       "status_group\n",
       "0    32259\n",
       "2    22824\n",
       "1     4317\n",
       "Name: count, dtype: int64"
      ]
     },
     "execution_count": 79,
     "metadata": {},
     "output_type": "execute_result"
    }
   ],
   "source": [
    "df1['status_group'].value_counts()"
   ]
  },
  {
   "cell_type": "markdown",
   "id": "50a7fa69",
   "metadata": {},
   "source": [
    "We have compiled the data into three categories \n",
    "* 0 represents functional water points\n",
    "* 1 represents functional but needs repair water points\n",
    "* 2 represents non-functional water points\n",
    "\n",
    "However we want more definitive categories"
   ]
  },
  {
   "cell_type": "code",
   "execution_count": 80,
   "id": "fb8b80a7",
   "metadata": {},
   "outputs": [],
   "source": [
    "target_status_group = {0:1, 1: 1, 2 : 0}\n",
    "df1['status_group'] = df1['status_group'].replace(target_status_group)"
   ]
  },
  {
   "cell_type": "markdown",
   "id": "23360a60",
   "metadata": {},
   "source": [
    "Now lets chck again."
   ]
  },
  {
   "cell_type": "code",
   "execution_count": 81,
   "id": "37534cf1",
   "metadata": {},
   "outputs": [
    {
     "data": {
      "text/plain": [
       "status_group\n",
       "1    36576\n",
       "0    22824\n",
       "Name: count, dtype: int64"
      ]
     },
     "execution_count": 81,
     "metadata": {},
     "output_type": "execute_result"
    }
   ],
   "source": [
    "df1['status_group'].value_counts()"
   ]
  },
  {
   "cell_type": "markdown",
   "id": "13289eba",
   "metadata": {},
   "source": [
    "## Baseline Model"
   ]
  },
  {
   "cell_type": "markdown",
   "id": "c8e8431e",
   "metadata": {},
   "source": [
    "We'll employ cross-validation as our primary technique to determine the most optimal outcome. This method offers convenience and clarity in understanding the process's progression. Additionally, to ensure the robustness of our results, we'll apply multiple models and verify the consistency of our findings"
   ]
  },
  {
   "cell_type": "code",
   "execution_count": 82,
   "id": "27de114e",
   "metadata": {},
   "outputs": [],
   "source": [
    "#import library\n",
    "from sklearn.model_selection import train_test_split \n",
    "# Define the Target column\n",
    "target ='status_group'\n",
    "# Separating X and target column\n",
    "used_cols = [c for c in df1.columns.tolist() if c not in [target]]\n",
    "X=df1[used_cols]\n",
    "y=df1[target]\n",
    "# X and y to test and train\n",
    "X_train, X_test, y_train, y_test = train_test_split(X, y, test_size=0.2, random_state=42)\n"
   ]
  },
  {
   "cell_type": "markdown",
   "id": "4f20ecc0",
   "metadata": {},
   "source": [
    "### Robust Scaler on Baseline Model"
   ]
  },
  {
   "cell_type": "markdown",
   "id": "911c7f69",
   "metadata": {},
   "source": [
    "We will use the Robust Scaler to standardize variables, relying on statistics less sensitive to outliers, such as the Interquartile Range. As for encoding, we'll experiment with the target encoder, known for its effectiveness with features having higher cardinality or numerous unique values. Given our dataset's substantial unique values, our initial model for the baseline assessment will be Logistic Regression. This model aims to predict the likelihood of an instance belonging to a specific class by estimating its probability."
   ]
  },
  {
   "cell_type": "code",
   "execution_count": 83,
   "id": "6bb60c74",
   "metadata": {},
   "outputs": [
    {
     "name": "stderr",
     "output_type": "stream",
     "text": [
      "C:\\Users\\hp\\AppData\\Local\\Programs\\Python\\Python311\\Lib\\site-packages\\sklearn\\linear_model\\_logistic.py:460: ConvergenceWarning: lbfgs failed to converge (status=1):\n",
      "STOP: TOTAL NO. of ITERATIONS REACHED LIMIT.\n",
      "\n",
      "Increase the number of iterations (max_iter) or scale the data as shown in:\n",
      "    https://scikit-learn.org/stable/modules/preprocessing.html\n",
      "Please also refer to the documentation for alternative solver options:\n",
      "    https://scikit-learn.org/stable/modules/linear_model.html#logistic-regression\n",
      "  n_iter_i = _check_optimize_result(\n"
     ]
    },
    {
     "name": "stdout",
     "output_type": "stream",
     "text": [
      "Accuracy:\n",
      "=========\n",
      "TRAIN: 0.7670664983164983\n",
      "TEST: 0.7704545454545455\n",
      "\n",
      "Balanced Accuracy:\n",
      "==================\n",
      "TRAIN: 0.7454500259992738\n",
      "TEST: 0.7481602515202841\n"
     ]
    }
   ],
   "source": [
    "#Import necessary libraries\n",
    "from sklearn.preprocessing import RobustScaler\n",
    "from sklearn.compose import ColumnTransformer\n",
    "from sklearn.pipeline import make_pipeline\n",
    "from sklearn.linear_model import LogisticRegression\n",
    "from sklearn.metrics import accuracy_score, balanced_accuracy_score\n",
    "import category_encoders as ce  \n",
    "from sklearn.model_selection import cross_val_score, train_test_split\n",
    "scaler = RobustScaler()\n",
    "encoder = ce.TargetEncoder(cols=cat_col)\n",
    "\n",
    "# putting numeric columns to scaler and categorical to encoder\n",
    "num_transformer = make_pipeline(scaler)\n",
    "cat_transformer = make_pipeline(encoder)\n",
    "\n",
    "# getting together our scaler and encoder with preprocessor\n",
    "preprocessor = ColumnTransformer(\n",
    "      transformers=[('num', num_transformer, num_col),\n",
    "                    ('cat', cat_transformer, cat_col)])\n",
    "\n",
    "\n",
    "# choosing model\n",
    "lr = LogisticRegression(class_weight = 'balanced', solver = 'lbfgs', random_state=42)\n",
    "\n",
    "# giving all values to pipeline\n",
    "pipe = make_pipeline(preprocessor,lr)\n",
    "pipe.fit(X_train, y_train)\n",
    "\n",
    "\n",
    "# make predictions on training set\n",
    "y_pred = pipe.predict(X_train)\n",
    "\n",
    "# make predictions on test set\n",
    "y_pred_test = pipe.predict(X_test)\n",
    "\n",
    "# to print the results in good way\n",
    "print(\"Accuracy:\"); print(\"=\"*len(\"Accuracy:\"))\n",
    "print(f\"TRAIN: {accuracy_score(y_train, y_pred)}\")\n",
    "print(f\"TEST: {accuracy_score(y_test, y_pred_test)}\")\n",
    "\n",
    "print(\"\\nBalanced Accuracy:\"); print(\"=\"*len(\"Balanced Accuracy:\"))\n",
    "print(f\"TRAIN: {balanced_accuracy_score(y_train, y_pred)}\")\n",
    "print(f\"TEST: {balanced_accuracy_score(y_test, y_pred_test)}\")"
   ]
  },
  {
   "cell_type": "code",
   "execution_count": 84,
   "id": "f59286b5",
   "metadata": {},
   "outputs": [
    {
     "data": {
      "image/png": "[encoded data removed]",
      "text/plain": [
       "<Figure size 800x600 with 2 Axes>"
      ]
     },
     "metadata": {},
     "output_type": "display_data"
    }
   ],
   "source": [
    "#import libraries\n",
    "from sklearn.metrics import confusion_matrix\n",
    "import matplotlib.pyplot as plt\n",
    "import numpy as np\n",
    "\n",
    "# Generate confusion matrix\n",
    "cm = confusion_matrix(y_test, y_pred_test)\n",
    "\n",
    "# Plot confusion matrix\n",
    "plt.figure(figsize=(8, 6))\n",
    "plt.imshow(cm, interpolation='nearest', cmap=plt.cm.Blues)\n",
    "plt.title('Confusion Matrix')\n",
    "plt.colorbar()\n",
    "\n",
    "classes = np.unique(y_test)\n",
    "tick_marks = np.arange(len(classes))\n",
    "\n",
    "plt.xticks(tick_marks, classes)\n",
    "plt.yticks(tick_marks, classes)\n",
    "\n",
    "thresh = cm.max() / 2.\n",
    "for i in range(cm.shape[0]):\n",
    "    for j in range(cm.shape[1]):\n",
    "        plt.text(j, i, format(cm[i, j], 'd'),\n",
    "                 ha=\"center\", va=\"center\",\n",
    "                 color=\"white\" if cm[i, j] > thresh else \"black\")\n",
    "\n",
    "plt.ylabel('True label')\n",
    "plt.xlabel('Predicted label')\n",
    "plt.tight_layout()\n",
    "plt.show()\n"
   ]
  },
  {
   "cell_type": "markdown",
   "id": "5887ff54",
   "metadata": {},
   "source": [
    "The matrix reveals insights: 1133 instances were wrongly predicted as non-functional when they were actually functional. Additionally, 1594 instances were predicted as functional, but in reality, they were non-functional.\n"
   ]
  },
  {
   "cell_type": "markdown",
   "id": "b48196d1",
   "metadata": {},
   "source": [
    "### OneHot Encoder with LogReg"
   ]
  },
  {
   "cell_type": "code",
   "execution_count": 85,
   "id": "bfbbe8d8",
   "metadata": {},
   "outputs": [
    {
     "name": "stderr",
     "output_type": "stream",
     "text": [
      "C:\\Users\\hp\\AppData\\Local\\Programs\\Python\\Python311\\Lib\\site-packages\\sklearn\\linear_model\\_logistic.py:460: ConvergenceWarning: lbfgs failed to converge (status=1):\n",
      "STOP: TOTAL NO. of ITERATIONS REACHED LIMIT.\n",
      "\n",
      "Increase the number of iterations (max_iter) or scale the data as shown in:\n",
      "    https://scikit-learn.org/stable/modules/preprocessing.html\n",
      "Please also refer to the documentation for alternative solver options:\n",
      "    https://scikit-learn.org/stable/modules/linear_model.html#logistic-regression\n",
      "  n_iter_i = _check_optimize_result(\n",
      "C:\\Users\\hp\\AppData\\Local\\Programs\\Python\\Python311\\Lib\\site-packages\\sklearn\\linear_model\\_logistic.py:460: ConvergenceWarning: lbfgs failed to converge (status=1):\n",
      "STOP: TOTAL NO. of ITERATIONS REACHED LIMIT.\n",
      "\n",
      "Increase the number of iterations (max_iter) or scale the data as shown in:\n",
      "    https://scikit-learn.org/stable/modules/preprocessing.html\n",
      "Please also refer to the documentation for alternative solver options:\n",
      "    https://scikit-learn.org/stable/modules/linear_model.html#logistic-regression\n",
      "  n_iter_i = _check_optimize_result(\n",
      "C:\\Users\\hp\\AppData\\Local\\Programs\\Python\\Python311\\Lib\\site-packages\\sklearn\\linear_model\\_logistic.py:460: ConvergenceWarning: lbfgs failed to converge (status=1):\n",
      "STOP: TOTAL NO. of ITERATIONS REACHED LIMIT.\n",
      "\n",
      "Increase the number of iterations (max_iter) or scale the data as shown in:\n",
      "    https://scikit-learn.org/stable/modules/preprocessing.html\n",
      "Please also refer to the documentation for alternative solver options:\n",
      "    https://scikit-learn.org/stable/modules/linear_model.html#logistic-regression\n",
      "  n_iter_i = _check_optimize_result(\n",
      "C:\\Users\\hp\\AppData\\Local\\Programs\\Python\\Python311\\Lib\\site-packages\\sklearn\\linear_model\\_logistic.py:460: ConvergenceWarning: lbfgs failed to converge (status=1):\n",
      "STOP: TOTAL NO. of ITERATIONS REACHED LIMIT.\n",
      "\n",
      "Increase the number of iterations (max_iter) or scale the data as shown in:\n",
      "    https://scikit-learn.org/stable/modules/preprocessing.html\n",
      "Please also refer to the documentation for alternative solver options:\n",
      "    https://scikit-learn.org/stable/modules/linear_model.html#logistic-regression\n",
      "  n_iter_i = _check_optimize_result(\n",
      "C:\\Users\\hp\\AppData\\Local\\Programs\\Python\\Python311\\Lib\\site-packages\\sklearn\\linear_model\\_logistic.py:460: ConvergenceWarning: lbfgs failed to converge (status=1):\n",
      "STOP: TOTAL NO. of ITERATIONS REACHED LIMIT.\n",
      "\n",
      "Increase the number of iterations (max_iter) or scale the data as shown in:\n",
      "    https://scikit-learn.org/stable/modules/preprocessing.html\n",
      "Please also refer to the documentation for alternative solver options:\n",
      "    https://scikit-learn.org/stable/modules/linear_model.html#logistic-regression\n",
      "  n_iter_i = _check_optimize_result(\n"
     ]
    },
    {
     "name": "stdout",
     "output_type": "stream",
     "text": [
      "0.8488657147568454 +/- 0.00270974225032191\n"
     ]
    },
    {
     "name": "stderr",
     "output_type": "stream",
     "text": [
      "C:\\Users\\hp\\AppData\\Local\\Programs\\Python\\Python311\\Lib\\site-packages\\sklearn\\linear_model\\_logistic.py:460: ConvergenceWarning: lbfgs failed to converge (status=1):\n",
      "STOP: TOTAL NO. of ITERATIONS REACHED LIMIT.\n",
      "\n",
      "Increase the number of iterations (max_iter) or scale the data as shown in:\n",
      "    https://scikit-learn.org/stable/modules/preprocessing.html\n",
      "Please also refer to the documentation for alternative solver options:\n",
      "    https://scikit-learn.org/stable/modules/linear_model.html#logistic-regression\n",
      "  n_iter_i = _check_optimize_result(\n"
     ]
    },
    {
     "name": "stdout",
     "output_type": "stream",
     "text": [
      "Accuracy:\n",
      "=========\n",
      "TRAIN: 0.7848274410774411\n",
      "TEST: 0.7836700336700336\n",
      "\n",
      "Balanced Accuracy:\n",
      "==================\n",
      "TRAIN: 0.769529680010804\n",
      "TEST: 0.7676637403083235\n"
     ]
    }
   ],
   "source": [
    "\n",
    "scaler = RobustScaler()\n",
    "encoder = ce.OneHotEncoder(cols=cat_col)\n",
    "\n",
    "num_transformer = make_pipeline(scaler)\n",
    "cat_transformer = make_pipeline(encoder)\n",
    "\n",
    "\n",
    "preprocessor = ColumnTransformer(\n",
    "      transformers=[('num', num_transformer, num_col),\n",
    "                    ('cat', cat_transformer, cat_col)])\n",
    "\n",
    "pipe = make_pipeline(preprocessor,lr)\n",
    "\n",
    "scores = cross_val_score(pipe, X, y, cv=5, scoring='roc_auc')\n",
    "print(scores.mean(), \"+/-\", scores.std())\n",
    "\n",
    "pipe.fit(X_train, y_train)\n",
    "\n",
    "# make predictions on training set\n",
    "y_pred = pipe.predict(X_train)\n",
    "\n",
    "# make predictions on test set\n",
    "y_pred_test = pipe.predict(X_test)\n",
    "\n",
    "# to print the results in good way\n",
    "print(\"Accuracy:\"); print(\"=\"*len(\"Accuracy:\"))\n",
    "print(f\"TRAIN: {accuracy_score(y_train, y_pred)}\")\n",
    "print(f\"TEST: {accuracy_score(y_test, y_pred_test)}\")\n",
    "\n",
    "print(\"\\nBalanced Accuracy:\"); print(\"=\"*len(\"Balanced Accuracy:\"))\n",
    "print(f\"TRAIN: {balanced_accuracy_score(y_train, y_pred)}\")\n",
    "print(f\"TEST: {balanced_accuracy_score(y_test, y_pred_test)}\")"
   ]
  },
  {
   "cell_type": "markdown",
   "id": "6905db3c",
   "metadata": {},
   "source": [
    "The model demonstrates reasonably similar performance between the training and test sets, achieving accuracies around 78%, indicating a relatively stable performance across both datasets. Additionally, the balanced accuracy scores, which account for class imbalances, reinforce the consistency of the model's performance across different classes in both training and test data."
   ]
  },
  {
   "cell_type": "markdown",
   "id": "c76e1dbf",
   "metadata": {},
   "source": [
    "### MinMax Scaler"
   ]
  },
  {
   "cell_type": "markdown",
   "id": "ab87949c",
   "metadata": {},
   "source": [
    "In cases where the distribution deviates from a Gaussian shape or when the standard deviation is minimal, the min-max scaler tends to perform effectively. Consequently, we'll observe and contrast our scaler methods to determine their respective performances."
   ]
  },
  {
   "cell_type": "code",
   "execution_count": 86,
   "id": "5efc5b20",
   "metadata": {},
   "outputs": [
    {
     "name": "stdout",
     "output_type": "stream",
     "text": [
      "0.8294731154514601 +/- 0.003931405893907089\n"
     ]
    }
   ],
   "source": [
    "from sklearn.preprocessing import MinMaxScaler\n",
    "scaler = MinMaxScaler()\n",
    "encoder = ce.WOEEncoder(cols=cat_col)\n",
    "\n",
    "# putting numeric columns to scaler and categorical to encoder\n",
    "num_transformer = make_pipeline(scaler)\n",
    "cat_transformer = make_pipeline(encoder)\n",
    "\n",
    "# getting together our scaler and encoder with preprocessor\n",
    "preprocessor = ColumnTransformer(\n",
    "      transformers=[('num', num_transformer, num_col),\n",
    "                    ('cat', cat_transformer, cat_col)])\n",
    "\n",
    "# giving all values to pipeline\n",
    "pipe = make_pipeline(preprocessor,lr)\n",
    "\n",
    "scores = cross_val_score(pipe, X, y, cv=5, scoring='roc_auc')\n",
    "print(scores.mean(), \"+/-\", scores.std())"
   ]
  },
  {
   "cell_type": "markdown",
   "id": "40bf6bce",
   "metadata": {},
   "source": [
    "## Decision Tree Classifier"
   ]
  },
  {
   "cell_type": "code",
   "execution_count": 87,
   "id": "b78b5a53",
   "metadata": {},
   "outputs": [
    {
     "name": "stdout",
     "output_type": "stream",
     "text": [
      "0.7869422070366234 +/- 0.007860458672978196\n"
     ]
    }
   ],
   "source": [
    "#import libraries\n",
    "from sklearn.tree import DecisionTreeClassifier\n",
    "dt = DecisionTreeClassifier(criterion='entropy', max_depth=4, min_samples_leaf=5, \n",
    "                            random_state=42, class_weight='balanced')\n",
    "\n",
    "pipe = make_pipeline(preprocessor,dt)\n",
    "\n",
    "scores = cross_val_score(pipe, X, y, cv=5, scoring='roc_auc')\n",
    "print(scores.mean(), \"+/-\", scores.std())"
   ]
  },
  {
   "cell_type": "markdown",
   "id": "076dd07d",
   "metadata": {},
   "source": [
    "### RandomForestClassifier"
   ]
  },
  {
   "cell_type": "markdown",
   "id": "11edd0dd",
   "metadata": {},
   "source": [
    "Random forest models mitigate overfitting by introducing randomness in multiple ways. They achieve this through constructing numerous decision trees (n_estimators), sampling data with replacement (bootstrapping), and selecting only a random subset of features at each node to determine the best split. By transforming non-homogeneous nodes into the best possible splits, these methods collectively help reduce the risk of overfitting in the model."
   ]
  },
  {
   "cell_type": "code",
   "execution_count": 88,
   "id": "b4a646f3",
   "metadata": {},
   "outputs": [
    {
     "name": "stdout",
     "output_type": "stream",
     "text": [
      "0.9185816256764625 +/- 0.002693356782653815\n"
     ]
    }
   ],
   "source": [
    "#import libraries\n",
    "from sklearn.ensemble import RandomForestClassifier\n",
    "rf = RandomForestClassifier(n_estimators=50, random_state=42, n_jobs=-1,class_weight='balanced')\n",
    "\n",
    "pipe = make_pipeline(preprocessor,rf)\n",
    "\n",
    "scores = cross_val_score(pipe, X, y, cv=5, scoring='roc_auc')\n",
    "print(scores.mean(), \"+/-\", scores.std())"
   ]
  },
  {
   "cell_type": "markdown",
   "id": "67b6a4b3",
   "metadata": {},
   "source": [
    "### k-Neigbours Classifier"
   ]
  },
  {
   "cell_type": "markdown",
   "id": "3209e585",
   "metadata": {},
   "source": [
    "Initially, we're applying the k-Neighbors model without any parameter adjustments. The intent is to identify the nearest predefined number of training points in terms of distance from a new point and predict the label based on this proximity. Based on the outcomes obtained, we'll determine whether to proceed with refining the model through parameter tuning or retain it in its current state."
   ]
  },
  {
   "cell_type": "code",
   "execution_count": 89,
   "id": "cd2687c5",
   "metadata": {},
   "outputs": [
    {
     "name": "stdout",
     "output_type": "stream",
     "text": [
      "0.8844331540094714 +/- 0.0027706188135411137\n"
     ]
    }
   ],
   "source": [
    "from sklearn.neighbors import KNeighborsClassifier\n",
    "knn = KNeighborsClassifier()\n",
    "\n",
    "pipe = make_pipeline(preprocessor,knn)\n",
    "scores = cross_val_score(pipe, X, y, cv=5, scoring='roc_auc')\n",
    "print(scores.mean(), \"+/-\", scores.std())"
   ]
  },
  {
   "cell_type": "markdown",
   "id": "04187ae9",
   "metadata": {},
   "source": [
    "Given that the k-Neighbors model doesn't outperform our Random Forest model, we'll opt not to pursue parameter tuning for the k-Neighbors model and maintain our focus on the Random Forest approach."
   ]
  },
  {
   "cell_type": "code",
   "execution_count": 90,
   "id": "830a1848",
   "metadata": {},
   "outputs": [
    {
     "name": "stdout",
     "output_type": "stream",
     "text": [
      "[LightGBM] [Warning] Unknown parameter: booster\n",
      "[LightGBM] [Warning] Accuracy may be bad since you didn't explicitly set num_leaves OR 2^max_depth > num_leaves. (num_leaves=31).\n",
      "[LightGBM] [Warning] Unknown parameter: booster\n",
      "[LightGBM] [Warning] Accuracy may be bad since you didn't explicitly set num_leaves OR 2^max_depth > num_leaves. (num_leaves=31).\n",
      "[LightGBM] [Info] Number of positive: 29268, number of negative: 18252\n",
      "[LightGBM] [Info] Auto-choosing row-wise multi-threading, the overhead of testing was 0.005434 seconds.\n",
      "You can set `force_row_wise=true` to remove the overhead.\n",
      "And if memory is not enough, you can set `force_col_wise=true`.\n",
      "[LightGBM] [Info] Total Bins 1145\n",
      "[LightGBM] [Info] Number of data points in the train set: 47520, number of used features: 17\n",
      "[LightGBM] [Info] [binary:BoostFromScore]: pavg=0.615909 -> initscore=0.472220\n",
      "[LightGBM] [Info] Start training from score 0.472220\n",
      "[LightGBM] [Warning] Unknown parameter: booster\n",
      "[LightGBM] [Warning] Accuracy may be bad since you didn't explicitly set num_leaves OR 2^max_depth > num_leaves. (num_leaves=31).\n",
      "[LightGBM] [Warning] Unknown parameter: booster\n",
      "[LightGBM] [Warning] Accuracy may be bad since you didn't explicitly set num_leaves OR 2^max_depth > num_leaves. (num_leaves=31).\n",
      "Accuracy:\n",
      "=========\n",
      "TRAIN: 0.8375210437710437\n",
      "TEST: 0.8257575757575758\n",
      "\n",
      "Balanced Accuracy:\n",
      "==================\n",
      "TRAIN: 0.8052232864537718\n",
      "TEST: 0.793070047278573\n"
     ]
    }
   ],
   "source": [
    "from lightgbm import LGBMClassifier\n",
    "#seting model\n",
    "lgbm = LGBMClassifier(booster='gbtree', n_estimators=100, learning_rate=0.1, max_depth=10, colsample_bytree=0.4, max_delta_step=1)\n",
    "\n",
    "#sending everthing in pipe\n",
    "pipe = make_pipeline(preprocessor,lgbm)\n",
    "pipe.fit(X_train, y_train)\n",
    "\n",
    "# predictions on train set\n",
    "y_pred = pipe.predict(X_train)\n",
    "\n",
    "# predictions on test set\n",
    "y_pred_test = pipe.predict(X_test)\n",
    "\n",
    "print(\"Accuracy:\"); print(\"=\"*len(\"Accuracy:\"))\n",
    "print(f\"TRAIN: {accuracy_score(y_train, y_pred)}\")\n",
    "print(f\"TEST: {accuracy_score(y_test, y_pred_test)}\")\n",
    "\n",
    "print(\"\\nBalanced Accuracy:\"); print(\"=\"*len(\"Balanced Accuracy:\"))\n",
    "print(f\"TRAIN: {balanced_accuracy_score(y_train, y_pred)}\")\n",
    "print(f\"TEST: {balanced_accuracy_score(y_test, y_pred_test)}\")\n"
   ]
  },
  {
   "cell_type": "code",
   "execution_count": 91,
   "id": "f560dae4",
   "metadata": {},
   "outputs": [
    {
     "data": {
      "image/png": "[encoded data removed]",
      "text/plain": [
       "<Figure size 800x600 with 1 Axes>"
      ]
     },
     "metadata": {},
     "output_type": "display_data"
    }
   ],
   "source": [
    "cm = confusion_matrix(y_test, y_pred_test)\n",
    "\n",
    "# Plot confusion matrix as a heatmap\n",
    "plt.figure(figsize=(8, 6))\n",
    "sns.heatmap(cm, annot=True, fmt='d', cmap='Blues', cbar=False)\n",
    "plt.xlabel('Predicted Labels')\n",
    "plt.ylabel('True Labels')\n",
    "plt.title('Confusion Matrix')\n",
    "plt.show()"
   ]
  },
  {
   "cell_type": "markdown",
   "id": "be0fb1c2",
   "metadata": {},
   "source": [
    "Given the parameter adjustments, our model effectively managed the overfitting concern, yet the Random Forest model yielded superior results. As of now, we've opted to halt further refinements for this model. However, for potential future use, such as in competition submissions, we may revisit parameter tuning."
   ]
  },
  {
   "cell_type": "markdown",
   "id": "b92d794d",
   "metadata": {},
   "source": [
    "# Evaluation"
   ]
  },
  {
   "cell_type": "markdown",
   "id": "c3980c3b",
   "metadata": {},
   "source": [
    "## Best Fit Model"
   ]
  },
  {
   "cell_type": "code",
   "execution_count": 92,
   "id": "5ccfb412",
   "metadata": {},
   "outputs": [
    {
     "name": "stdout",
     "output_type": "stream",
     "text": [
      "Accuracy:\n",
      "=========\n",
      "TRAIN: 0.952293771043771\n",
      "TEST: 0.8585858585858586\n",
      "\n",
      "Balanced Accuracy:\n",
      "==================\n",
      "TRAIN: 0.9484038750643917\n",
      "TEST: 0.8455882669838684\n"
     ]
    }
   ],
   "source": [
    "rf = RandomForestClassifier(n_estimators=100, random_state=42, n_jobs=-1,class_weight='balanced',\n",
    "                            criterion = 'entropy',max_features = 'sqrt',min_samples_split = 10)\n",
    " \n",
    "pipe = make_pipeline(preprocessor,rf)\n",
    "pipe.fit(X_train, y_train)\n",
    "\n",
    "# predictions on train set\n",
    "y_pred = pipe.predict(X_train)\n",
    "\n",
    "# predictions on test set\n",
    "y_pred_test = pipe.predict(X_test)\n",
    "\n",
    "print(\"Accuracy:\"); print(\"=\"*len(\"Accuracy:\"))\n",
    "print(f\"TRAIN: {accuracy_score(y_train, y_pred)}\")\n",
    "print(f\"TEST: {accuracy_score(y_test, y_pred_test)}\")\n",
    "\n",
    "print(\"\\nBalanced Accuracy:\"); print(\"=\"*len(\"Balanced Accuracy:\"))\n",
    "print(f\"TRAIN: {balanced_accuracy_score(y_train, y_pred)}\")\n",
    "print(f\"TEST: {balanced_accuracy_score(y_test, y_pred_test)}\")"
   ]
  },
  {
   "cell_type": "code",
   "execution_count": 93,
   "id": "276c5847",
   "metadata": {},
   "outputs": [
    {
     "data": {
      "image/png": "[encoded data removed]",
      "text/plain": [
       "<Figure size 800x600 with 1 Axes>"
      ]
     },
     "metadata": {},
     "output_type": "display_data"
    }
   ],
   "source": [
    "# Confusion matrix\n",
    "cm = confusion_matrix(y_test, y_pred_test)\n",
    "\n",
    "# Plot confusion matrix as a heatmap\n",
    "plt.figure(figsize=(8, 6))\n",
    "sns.heatmap(cm, annot=True, fmt='d', cmap='Blues', cbar=False)\n",
    "plt.xlabel('Predicted Labels')\n",
    "plt.ylabel('True Labels')\n",
    "plt.title('Confusion Matrix - Random Forest')\n",
    "plt.show()"
   ]
  },
  {
   "cell_type": "markdown",
   "id": "b478a7fa",
   "metadata": {},
   "source": [
    "The Random Forest model excels due to its ability to handle complex relationships in the data, reducing overfitting through ensemble learning (combining multiple decision trees), and considering the impact of different features in the classification process. The notably high accuracy scores on both the training and test sets, along with substantial balanced accuracy scores, indicate that the model generalizes well to unseen data while maintaining a high level of predictive accuracy. This indicates the model's effectiveness in learning from the training data and making accurate predictions on new, unseen data, making it the best-performing model among those considered."
   ]
  },
  {
   "cell_type": "markdown",
   "id": "991ef309",
   "metadata": {},
   "source": [
    "# Conclusion & Next Steps"
   ]
  },
  {
   "cell_type": "markdown",
   "id": "cc975c3b",
   "metadata": {},
   "source": [
    "We suggest the NGO consider employing this model to aid in prioritizing wells for resource allocation. Additionally, if they aim to advocate for better well construction in the future, focusing on essential features like total static head, installer, extraction type, and government permits could be pivotal, considering their significance in predicting well failure.\n",
    "One limitation of our model is its reliance on columns with uncertain zero values that may represent nulls. To refine the model, obtaining more accurate data for this feature could enhance its effectiveness.\n",
    "Moreover, the dataset spans from 2003, potentially lacking recent changes in well construction or maintenance practices. Addressing this gap would be crucial for future improvements in predictive accuracy.\n",
    "Understanding budgetary constraints, integrating cost-related factors (e.g., well parts, replacement, transportation) into the model could mitigate organizational risks.\n",
    "Lastly, collaboration with the NGO in disseminating educational resources and providing guidance on well maintenance could empower local communities, promoting the sustainability of improved water sources.\n",
    "Thank you for the opportunity to work on this project.\n"
   ]
  }
 ],
 "metadata": {
  "kernelspec": {
   "display_name": "Python (learn-env)",
   "language": "python",
   "name": "learn-env"
  },
  "language_info": {
   "codemirror_mode": {
    "name": "ipython",
    "version": 3
   },
   "file_extension": ".py",
   "mimetype": "text/x-python",
   "name": "python",
   "nbconvert_exporter": "python",
   "pygments_lexer": "ipython3",
   "version": "3.11.4"
  }
 },
 "nbformat": 4,
 "nbformat_minor": 5
}
